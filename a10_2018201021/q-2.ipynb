{
 "cells": [
  {
   "cell_type": "markdown",
   "metadata": {},
   "source": [
    "## Import Libraries"
   ]
  },
  {
   "cell_type": "code",
   "execution_count": 33,
   "metadata": {},
   "outputs": [],
   "source": [
    "import numpy as np\n",
    "import pandas as pd"
   ]
  },
  {
   "cell_type": "markdown",
   "metadata": {},
   "source": [
    "## Function to calculate State Path Probabilitity"
   ]
  },
  {
   "cell_type": "code",
   "execution_count": 34,
   "metadata": {},
   "outputs": [],
   "source": [
    "def prob(seq, state):\n",
    "    ans =1\n",
    "    for x in range(len(seq)):\n",
    "            \n",
    "        if state[x]=='E':\n",
    "            ans=ans*0.25*0.9\n",
    "        if (state[x]=='5' and state[x-1]=='E'):\n",
    "            ans=ans*0.1\n",
    "        if (state[x]=='5' and seq[x]=='G'):\n",
    "            ans=ans*0.95\n",
    "        if (state[x]=='I'and state[x-1]=='5'):\n",
    "            ans=ans*1\n",
    "        if (state[x]=='I'and (seq[x]=='T' or seq[x]=='A' )):\n",
    "            ans=ans*0.9*0.4\n",
    "        if (state[x]=='I' and (seq[x]=='G' or seq[x]=='T')):\n",
    "            ans=ans*0.9*0.1\n",
    "   \n",
    "    #print(ans)\n",
    "    ans=ans/0.9\n",
    "    ans = np.log(ans)\n",
    "    print(ans)\n",
    "    return ans  \n",
    "        \n"
   ]
  },
  {
   "cell_type": "markdown",
   "metadata": {},
   "source": [
    "## Passing Data"
   ]
  },
  {
   "cell_type": "code",
   "execution_count": 38,
   "metadata": {},
   "outputs": [
    {
     "data": {
      "text/plain": [
       "26"
      ]
     },
     "execution_count": 38,
     "metadata": {},
     "output_type": "execute_result"
    }
   ],
   "source": [
    "seq = \"CTTCATGTGAAAGCAGACGTAAGTCA\"\n",
    "len(seq)"
   ]
  },
  {
   "cell_type": "code",
   "execution_count": 39,
   "metadata": {},
   "outputs": [
    {
     "data": {
      "text/plain": [
       "27"
      ]
     },
     "execution_count": 39,
     "metadata": {},
     "output_type": "execute_result"
    }
   ],
   "source": [
    "state = \"EEEEEEEEEEEEEEEEEE5IIIIIII$\"\n",
    "len(state)"
   ]
  },
  {
   "cell_type": "code",
   "execution_count": 40,
   "metadata": {},
   "outputs": [
    {
     "name": "stdout",
     "output_type": "stream",
     "text": [
      "-41.43039871733819\n"
     ]
    }
   ],
   "source": [
    "ans = prob(seq,state)\n"
   ]
  },
  {
   "cell_type": "code",
   "execution_count": null,
   "metadata": {},
   "outputs": [],
   "source": []
  },
  {
   "cell_type": "code",
   "execution_count": null,
   "metadata": {},
   "outputs": [],
   "source": []
  }
 ],
 "metadata": {
  "kernelspec": {
   "display_name": "Python 3",
   "language": "python",
   "name": "python3"
  },
  "language_info": {
   "codemirror_mode": {
    "name": "ipython",
    "version": 3
   },
   "file_extension": ".py",
   "mimetype": "text/x-python",
   "name": "python",
   "nbconvert_exporter": "python",
   "pygments_lexer": "ipython3",
   "version": "3.6.7"
  }
 },
 "nbformat": 4,
 "nbformat_minor": 2
}
