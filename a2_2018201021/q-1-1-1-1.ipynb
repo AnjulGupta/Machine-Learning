{
 "cells": [
  {
   "cell_type": "code",
   "execution_count": 138,
   "metadata": {},
   "outputs": [],
   "source": [
    "import numpy as np\n",
    "import pandas as pd\n",
    "from sklearn.model_selection import train_test_split\n",
    "import math\n",
    "from pprint import pprint\n",
    "import random\n",
    "import matplotlib.pyplot as plt  "
   ]
  },
  {
   "cell_type": "code",
   "execution_count": 139,
   "metadata": {},
   "outputs": [],
   "source": [
    "def Knn_classifier(train,row, k):\n",
    "    #store {euclid sum , label} \n",
    "    my_dist = []\n",
    "    l = len(row)\n",
    "    count = 0\n",
    "    for r in train[:,1:]:\n",
    "        sum = 0\n",
    "        for x in range(l):\n",
    "            sum+=pow(row[x] - r[x],2)\n",
    "            label = train [count][0]\n",
    "        count+=1\n",
    "        sum = math.sqrt(sum)\n",
    "        my_dist.append((sum,label))\n",
    "    \n",
    "    my_dist.sort(key=lambda x: x[0])\n",
    "\n",
    "    #stores {label , count) \n",
    "    predlabel = {}\n",
    "    for x in range(k):\n",
    "        res = my_dist[x][1]\n",
    "        if res not in predlabel:\n",
    "            predlabel[res] = 1\n",
    "        predlabel[res] += 1\n",
    "    ans = sorted(predlabel.items(),reverse = True)\n",
    "    k = ans[0][0]\n",
    "    return k\n"
   ]
  },
  {
   "cell_type": "code",
   "execution_count": 140,
   "metadata": {},
   "outputs": [],
   "source": [
    "def pfunction():\n",
    "    global tp,tn,fp,fn\n",
    "    print(\"tp :\",tp,\", tn :\",tn,\", fp :\",fp,\", fn :\",fn)\n",
    "\n",
    "    if(tp!=0 and fn!=0):\n",
    "        rc=tp/(tp+fn)\n",
    "    else:\n",
    "        rc = 1\n",
    "    if(tp!=0 and fp!=0):\n",
    "        pc=tp/(tp+fp)\n",
    "    else:\n",
    "        pc = 1\n",
    "    f1=2/((1/pc)+(1/rc))\n",
    "    print(\"recall :\",rc,\", precision :\",pc,\", F1 score :\",f1)\n",
    "    \n",
    "    return"
   ]
  },
  {
   "cell_type": "code",
   "execution_count": 141,
   "metadata": {},
   "outputs": [],
   "source": [
    "def find_correct(myans , myvalidate):\n",
    "    global correct,tp,tn,fp,fn\n",
    "    a = myvalidate[:][0]\n",
    "\n",
    "    if (myans == a):\n",
    "        correct +=1\n",
    "    if(myans==1 and a==1):\n",
    "        tp+=1\n",
    "    if(myans==1 and a==0):\n",
    "        fp+=1    \n",
    "    if(myans==0 and a==0):\n",
    "        tn+=1\n",
    "    if(myans==0 and a==1):\n",
    "        fn+=1\n",
    "        \n",
    "    return correct"
   ]
  },
  {
   "cell_type": "code",
   "execution_count": 142,
   "metadata": {
    "scrolled": true
   },
   "outputs": [
    {
     "name": "stdout",
     "output_type": "stream",
     "text": [
      "tp : 7 , tn : 11 , fp : 3 , fn : 4\n",
      "recall : 0.6363636363636364 , precision : 0.7 , F1 score : 0.6666666666666666\n",
      "tp : 16 , tn : 21 , fp : 7 , fn : 6\n",
      "recall : 0.7272727272727273 , precision : 0.6956521739130435 , F1 score : 0.7111111111111111\n",
      "tp : 27 , tn : 29 , fp : 13 , fn : 6\n",
      "recall : 0.8181818181818182 , precision : 0.675 , F1 score : 0.7397260273972603\n",
      "tp : 38 , tn : 35 , fp : 21 , fn : 6\n",
      "recall : 0.8636363636363636 , precision : 0.6440677966101694 , F1 score : 0.7378640776699028\n",
      "tp : 49 , tn : 39 , fp : 31 , fn : 6\n",
      "recall : 0.8909090909090909 , precision : 0.6125 , F1 score : 0.725925925925926\n",
      "tp : 60 , tn : 41 , fp : 43 , fn : 6\n",
      "recall : 0.9090909090909091 , precision : 0.5825242718446602 , F1 score : 0.7100591715976331\n",
      "tp : 71 , tn : 43 , fp : 55 , fn : 6\n",
      "recall : 0.922077922077922 , precision : 0.5634920634920635 , F1 score : 0.6995073891625615\n",
      "tp : 82 , tn : 43 , fp : 69 , fn : 6\n",
      "recall : 0.9318181818181818 , precision : 0.543046357615894 , F1 score : 0.6861924686192468\n",
      "tp : 93 , tn : 43 , fp : 83 , fn : 6\n",
      "recall : 0.9393939393939394 , precision : 0.5284090909090909 , F1 score : 0.6763636363636364\n",
      "tp : 104 , tn : 43 , fp : 97 , fn : 6\n",
      "recall : 0.9454545454545454 , precision : 0.5174129353233831 , F1 score : 0.6688102893890675\n",
      "tp : 115 , tn : 43 , fp : 111 , fn : 6\n",
      "recall : 0.9504132231404959 , precision : 0.5088495575221239 , F1 score : 0.6628242074927954\n",
      "\n",
      "no of test samples 25\n",
      "Max_accuracy :  76.0 for k : 2\n"
     ]
    }
   ],
   "source": [
    "df = pd.read_csv(\"Robot1\", header=None, delimiter=r\"\\s+\")\n",
    "# validate = pd.read_csv(\"Robot1\", header=None, delimiter=r\"\\s+\")\n",
    "train,validate = train_test_split(df, test_size = 0.2)\n",
    "#remove last column from datas as insignificant\n",
    "train = train.iloc[:, :-1]\n",
    "validate = validate.iloc[:, :-1]\n",
    "\n",
    "train1=train\n",
    "val1=validate\n",
    "\n",
    "train = train.values\n",
    "myvalidate = validate.values\n",
    "\n",
    "validate_arr = validate.iloc[:, 1:].astype(float)\n",
    "validate_arr = validate_arr.values\n",
    "\n",
    "acc_list = []\n",
    "correct = 0\n",
    "tp,fp,tn,fn=0,0,0,0\n",
    "max_accuracy = 0\n",
    "k_for_max_acc = 0\n",
    "for i in range(1,12) :\n",
    "    for row in range(len(validate_arr)):\n",
    "        myans = Knn_classifier(train,validate_arr[row], i)\n",
    "        corr = find_correct(myans , myvalidate[row]) \n",
    "    accu = (corr/float(len(validate_arr)))*100\n",
    "    acc_list.append(accu)\n",
    "    if(accu>max_accuracy):\n",
    "        max_accuracy = accu\n",
    "        k_for_max_acc = i\n",
    "    correct = 0\n",
    "    pfunction()\n",
    "    \n",
    "print(\"\\nno of test samples\", len(validate_arr))\n",
    "print(\"Max_accuracy : \",max_accuracy, \"for k :\",k_for_max_acc)\n"
   ]
  },
  {
   "cell_type": "code",
   "execution_count": null,
   "metadata": {},
   "outputs": [],
   "source": []
  },
  {
   "cell_type": "code",
   "execution_count": 143,
   "metadata": {},
   "outputs": [
    {
     "data": {
      "text/plain": [
       "Text(0, 0.5, 'Accuracy')"
      ]
     },
     "execution_count": 143,
     "metadata": {},
     "output_type": "execute_result"
    },
    {
     "data": {
      "image/png": "[encoded data removed]",
      "text/plain": [
       "<Figure size 864x432 with 1 Axes>"
      ]
     },
     "metadata": {
      "needs_background": "light"
     },
     "output_type": "display_data"
    }
   ],
   "source": [
    "plt.figure(figsize=(12, 6))  \n",
    "plt.plot(range(1, 12), acc_list)\n",
    "plt.title('Acc vs K Value')  \n",
    "plt.xlabel('K Value')\n",
    "plt.grid(True)\n",
    "plt.ylabel('Accuracy') \n",
    "        "
   ]
  },
  {
   "cell_type": "code",
   "execution_count": 144,
   "metadata": {},
   "outputs": [
    {
     "name": "stdout",
     "output_type": "stream",
     "text": [
      "[[14  0]\n",
      " [ 1 10]]\n",
      "              precision    recall  f1-score   support\n",
      "\n",
      "           0       0.93      1.00      0.97        14\n",
      "           1       1.00      0.91      0.95        11\n",
      "\n",
      "   micro avg       0.96      0.96      0.96        25\n",
      "   macro avg       0.97      0.95      0.96        25\n",
      "weighted avg       0.96      0.96      0.96        25\n",
      "\n",
      "0.96\n"
     ]
    }
   ],
   "source": [
    "y_train = train1.pop(0)\n",
    "x_train = train1\n",
    "y_test = val1.pop(0)\n",
    "x_test = val1\n",
    "\n",
    "from sklearn.neighbors import KNeighborsClassifier  \n",
    "classifier = KNeighborsClassifier(n_neighbors=15)  \n",
    "classifier.fit(x_train, y_train)\n",
    "y_pred = classifier.predict(x_test)\n",
    "from sklearn.metrics import classification_report, confusion_matrix, accuracy_score\n",
    "print(confusion_matrix(y_test, y_pred))  \n",
    "print(classification_report(y_test, y_pred)) \n",
    "print(accuracy_score(y_test, y_pred))\n",
    "\n",
    "\n"
   ]
  },
  {
   "cell_type": "code",
   "execution_count": null,
   "metadata": {},
   "outputs": [],
   "source": []
  }
 ],
 "metadata": {
  "kernelspec": {
   "display_name": "Python 3",
   "language": "python",
   "name": "python3"
  },
  "language_info": {
   "codemirror_mode": {
    "name": "ipython",
    "version": 3
   },
   "file_extension": ".py",
   "mimetype": "text/x-python",
   "name": "python",
   "nbconvert_exporter": "python",
   "pygments_lexer": "ipython3",
   "version": "3.6.7"
  }
 },
 "nbformat": 4,
 "nbformat_minor": 2
}
