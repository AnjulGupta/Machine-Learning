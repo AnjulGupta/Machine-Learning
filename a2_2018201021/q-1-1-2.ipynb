{
 "cells": [
  {
   "cell_type": "code",
   "execution_count": 1,
   "metadata": {},
   "outputs": [],
   "source": [
    "import numpy as np\n",
    "import pandas as pd\n",
    "from sklearn.model_selection import train_test_split\n",
    "import math\n",
    "from pprint import pprint\n",
    "import random\n",
    "import matplotlib.pyplot as plt  "
   ]
  },
  {
   "cell_type": "code",
   "execution_count": 2,
   "metadata": {},
   "outputs": [],
   "source": [
    "# using Eucledian distance\n",
    "def Knn_classifier(train,row,validate, k):\n",
    "    #store {euclid sum , label} \n",
    "    my_dist = []\n",
    "\n",
    "    #     mydict = {}\n",
    "    l = len(row)\n",
    "    \n",
    "    count = 0\n",
    "    for r in train[:,:-1]:\n",
    "        sum = 0\n",
    "        for x in range(l):\n",
    "            sum+=pow(row[x] - r[x],2)\n",
    "            label = train [count][4]\n",
    "        count+=1\n",
    "        sum = math.sqrt(sum)\n",
    "        my_dist.append((sum,label))\n",
    "    \n",
    "    my_dist.sort(key=lambda x: x[0])\n",
    "    \n",
    "    #stores {label , count) \n",
    "    predlabel = {}\n",
    "    for x in range(k):\n",
    "        res = my_dist[x][1]\n",
    "        \n",
    "        if res not in predlabel:\n",
    "            predlabel[res] = 1\n",
    "        predlabel[res] += 1\n",
    "    ans = sorted(predlabel.items(),reverse = True)\n",
    "    k = ans[0][0]\n",
    "    return k\n"
   ]
  },
  {
   "cell_type": "code",
   "execution_count": 3,
   "metadata": {},
   "outputs": [],
   "source": [
    "def find_correct(myans , myvalidate):\n",
    "    \n",
    "    a = myvalidate[:][-1]\n",
    "    if (myans == a):\n",
    "        global correct\n",
    "        correct +=1\n",
    "    return correct"
   ]
  },
  {
   "cell_type": "code",
   "execution_count": 4,
   "metadata": {},
   "outputs": [
    {
     "data": {
      "text/html": [
       "<div>\n",
       "<style scoped>\n",
       "    .dataframe tbody tr th:only-of-type {\n",
       "        vertical-align: middle;\n",
       "    }\n",
       "\n",
       "    .dataframe tbody tr th {\n",
       "        vertical-align: top;\n",
       "    }\n",
       "\n",
       "    .dataframe thead th {\n",
       "        text-align: right;\n",
       "    }\n",
       "</style>\n",
       "<table border=\"1\" class=\"dataframe\">\n",
       "  <thead>\n",
       "    <tr style=\"text-align: right;\">\n",
       "      <th></th>\n",
       "      <th>a</th>\n",
       "      <th>b</th>\n",
       "      <th>c</th>\n",
       "      <th>d</th>\n",
       "      <th>label</th>\n",
       "    </tr>\n",
       "  </thead>\n",
       "  <tbody>\n",
       "    <tr>\n",
       "      <th>0</th>\n",
       "      <td>6.3</td>\n",
       "      <td>3.3</td>\n",
       "      <td>6.0</td>\n",
       "      <td>2.5</td>\n",
       "      <td>Iris-virginica</td>\n",
       "    </tr>\n",
       "    <tr>\n",
       "      <th>1</th>\n",
       "      <td>5.0</td>\n",
       "      <td>3.0</td>\n",
       "      <td>1.6</td>\n",
       "      <td>0.2</td>\n",
       "      <td>Iris-setosa</td>\n",
       "    </tr>\n",
       "    <tr>\n",
       "      <th>2</th>\n",
       "      <td>6.2</td>\n",
       "      <td>2.8</td>\n",
       "      <td>4.8</td>\n",
       "      <td>1.8</td>\n",
       "      <td>Iris-virginica</td>\n",
       "    </tr>\n",
       "    <tr>\n",
       "      <th>3</th>\n",
       "      <td>6.4</td>\n",
       "      <td>3.1</td>\n",
       "      <td>5.5</td>\n",
       "      <td>1.8</td>\n",
       "      <td>Iris-virginica</td>\n",
       "    </tr>\n",
       "    <tr>\n",
       "      <th>4</th>\n",
       "      <td>4.9</td>\n",
       "      <td>2.5</td>\n",
       "      <td>4.5</td>\n",
       "      <td>1.7</td>\n",
       "      <td>Iris-virginica</td>\n",
       "    </tr>\n",
       "  </tbody>\n",
       "</table>\n",
       "</div>"
      ],
      "text/plain": [
       "     a    b    c    d           label\n",
       "0  6.3  3.3  6.0  2.5  Iris-virginica\n",
       "1  5.0  3.0  1.6  0.2     Iris-setosa\n",
       "2  6.2  2.8  4.8  1.8  Iris-virginica\n",
       "3  6.4  3.1  5.5  1.8  Iris-virginica\n",
       "4  4.9  2.5  4.5  1.7  Iris-virginica"
      ]
     },
     "execution_count": 4,
     "metadata": {},
     "output_type": "execute_result"
    }
   ],
   "source": [
    "df = pd.read_csv('Iris.csv')\n",
    "df.columns=['a','b','c','d','label']\n",
    "df.head()"
   ]
  },
  {
   "cell_type": "code",
   "execution_count": 5,
   "metadata": {
    "scrolled": false
   },
   "outputs": [],
   "source": [
    "\n",
    "# train,validate = train_test_split(df, test_size = 1)\n",
    "train,validate = train_test_split(df, test_size = 0.2)\n",
    "random.seed(0)\n",
    "\n",
    "train1=train\n",
    "val1=validate\n",
    "\n",
    "\n",
    "train = train.values\n",
    "# print(train)\n",
    "myvalidate = validate.values\n",
    "validate_arr = validate.iloc[:, :-1].astype(float)\n",
    "validate_arr = validate_arr.values\n",
    "\n",
    "acc_list = []\n",
    "\n",
    "correct = 0\n",
    "for i in range(1,50) :\n",
    "    for row in range(len(validate_arr)):\n",
    "        myans = Knn_classifier(train,validate_arr[row],validate,i)\n",
    "        corr = find_correct(myans , myvalidate[row]) \n",
    "    accu = (corr/float(len(validate_arr)))*100\n",
    "    acc_list.append(accu)\n",
    "    correct = 0\n",
    "\n",
    "#     print(\"no of test samples\", len(validate_arr))\n",
    "#     print(\"correct\",corr)\n",
    "#     print(\"accuracy\",accu)"
   ]
  },
  {
   "cell_type": "code",
   "execution_count": 6,
   "metadata": {},
   "outputs": [
    {
     "data": {
      "text/plain": [
       "Text(0, 0.5, 'Accuracy')"
      ]
     },
     "execution_count": 6,
     "metadata": {},
     "output_type": "execute_result"
    },
    {
     "data": {
      "image/png": "[encoded data removed]",
      "text/plain": [
       "<Figure size 432x288 with 1 Axes>"
      ]
     },
     "metadata": {
      "needs_background": "light"
     },
     "output_type": "display_data"
    }
   ],
   "source": [
    "# plt.figure(figsize=(12, 6))  \n",
    "plt.plot(range(1, 50), acc_list)\n",
    "plt.title('Acc vs K Value')  \n",
    "plt.xlabel('K Value')\n",
    "plt.grid(True)\n",
    "plt.ylabel('Accuracy') \n",
    "        "
   ]
  },
  {
   "cell_type": "code",
   "execution_count": 7,
   "metadata": {},
   "outputs": [],
   "source": [
    "y_train = train1.pop('label')\n",
    "x_train = train1\n",
    "y_test = val1.pop('label')\n",
    "x_test = val1"
   ]
  },
  {
   "cell_type": "code",
   "execution_count": 8,
   "metadata": {},
   "outputs": [
    {
     "name": "stdout",
     "output_type": "stream",
     "text": [
      "[[9 0 0]\n",
      " [0 9 0]\n",
      " [0 2 7]]\n",
      "                 precision    recall  f1-score   support\n",
      "\n",
      "    Iris-setosa       1.00      1.00      1.00         9\n",
      "Iris-versicolor       0.82      1.00      0.90         9\n",
      " Iris-virginica       1.00      0.78      0.88         9\n",
      "\n",
      "      micro avg       0.93      0.93      0.93        27\n",
      "      macro avg       0.94      0.93      0.92        27\n",
      "   weighted avg       0.94      0.93      0.93        27\n",
      "\n",
      "0.925925925926\n"
     ]
    }
   ],
   "source": [
    "from sklearn.neighbors import KNeighborsClassifier  \n",
    "classifier = KNeighborsClassifier(n_neighbors=50)  \n",
    "classifier.fit(x_train, y_train)\n",
    "y_pred = classifier.predict(x_test)\n",
    "from sklearn.metrics import classification_report, confusion_matrix, accuracy_score\n",
    "print(confusion_matrix(y_test, y_pred))  \n",
    "print(classification_report(y_test, y_pred)) \n",
    "print(accuracy_score(y_test, y_pred))\n",
    "\n",
    "\n",
    "\n",
    "\n",
    "\n"
   ]
  },
  {
   "cell_type": "code",
   "execution_count": null,
   "metadata": {},
   "outputs": [],
   "source": []
  }
 ],
 "metadata": {
  "kernelspec": {
   "display_name": "Python 3",
   "language": "python",
   "name": "python3"
  },
  "language_info": {
   "codemirror_mode": {
    "name": "ipython",
    "version": 3
   },
   "file_extension": ".py",
   "mimetype": "text/x-python",
   "name": "python",
   "nbconvert_exporter": "python",
   "pygments_lexer": "ipython3",
   "version": "3.6.7"
  }
 },
 "nbformat": 4,
 "nbformat_minor": 2
}
