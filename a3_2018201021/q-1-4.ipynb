{
 "cells": [
  {
   "cell_type": "markdown",
   "metadata": {},
   "source": [
    "## Import Libraries"
   ]
  },
  {
   "cell_type": "code",
   "execution_count": 16,
   "metadata": {},
   "outputs": [],
   "source": [
    "import pandas as pd\n",
    "import numpy as np\n",
    "import matplotlib.pyplot as plt\n",
    "import math\n",
    "import random\n",
    "import operator\n",
    "from numpy import linalg as la\n",
    "from copy import deepcopy\n",
    "\n",
    "from sklearn.model_selection import train_test_split\n",
    "\n",
    "from sklearn.metrics.cluster import contingency_matrix\n",
    "from sklearn.mixture import GaussianMixture\n",
    "\n",
    "from sklearn.cluster import AgglomerativeClustering\n"
   ]
  },
  {
   "cell_type": "markdown",
   "metadata": {},
   "source": [
    "## Calculate Eigen values and vectors"
   ]
  },
  {
   "cell_type": "code",
   "execution_count": 17,
   "metadata": {},
   "outputs": [],
   "source": [
    "def calculate_eigens(df):\n",
    "    #finding atttr_wise(col_wise) mean and std\n",
    "    \n",
    "    mn = np.mean(df)\n",
    "    std = np.std(df)\n",
    "    \n",
    "#     print(df)\n",
    "    #normalizing data to (0-1) range\n",
    "    normalised = (df - mn)/std\n",
    "    #finding covariance matrix to make mat of order(attr * attr)\n",
    "    cov_mat = np.cov(normalised.T)\n",
    "#     print(cov_mat.shape)\n",
    "    #calculating eval and evec\n",
    "    evalue,evec = la.eig(cov_mat)\n",
    "#     print(evalue)\n",
    "#     print(evec)\n",
    "#     print(normalised)\n",
    "    \n",
    "    return evalue,evec,normalised"
   ]
  },
  {
   "cell_type": "markdown",
   "metadata": {},
   "source": [
    "## Selecting  dimensions with 10% tolerance using PCA"
   ]
  },
  {
   "cell_type": "code",
   "execution_count": 18,
   "metadata": {},
   "outputs": [],
   "source": [
    "def select_dimensions(mydict,evalue,evec,ndata):\n",
    "    #storing eval,evec in dict as key-value\n",
    "    for i in range (len(evalue)) :\n",
    "        mydict[evalue[i]] = evec[i]\n",
    "    \n",
    "    #summing evalues \n",
    "    evalue_sum = sum(evalue)\n",
    "    #print(evalue_sum)\n",
    "    \n",
    "    #sorting evalues in decreasing order \n",
    "    evalue_sorted = sorted(evalue, reverse = True)\n",
    "    \n",
    "    min_val = .90\n",
    "    curr_val = 0\n",
    "    \n",
    "    #sel_dimensions list till tolerance becomes less than 0.1\n",
    "    dim_list = []\n",
    "    \n",
    "    \n",
    "    for i in range (len(evalue_sorted)) :\n",
    "        #while curr_tolerance is less than .9, include dimension in dim_list\n",
    "        curr_val = curr_val + evalue_sorted[i]/evalue_sum\n",
    "        dim_list.append(mydict[evalue_sorted[i]])\n",
    "        if curr_val > 0.9 :\n",
    "            break\n",
    "        \n",
    "#     print (curr_val)\n",
    "#     print (dim_list)\n",
    "    \n",
    "    #final reduced dimensions \n",
    "    dim_list = np.asarray(dim_list)\n",
    "    dim_list = dim_list.T\n",
    "    dimensions = np.dot(ndata,dim_list)\n",
    "    \n",
    "#     print(ndata.shape, dim_list.shape, dimensions.shape)\n",
    "    \n",
    "    #final reduced data is of dimensions (rows * reduced_attr)\n",
    "    return dimensions\n"
   ]
  },
  {
   "cell_type": "markdown",
   "metadata": {},
   "source": [
    "## K-means on Reduced Dimensions"
   ]
  },
  {
   "cell_type": "code",
   "execution_count": 19,
   "metadata": {},
   "outputs": [],
   "source": [
    "def k_means(k,dimensions) :\n",
    "    rows = dimensions.shape[0]\n",
    "    cols = dimensions.shape[1]\n",
    "    \n",
    "    mn = np.mean(dimensions, axis = 0)\n",
    "    std = np.std(dimensions, axis = 0)\n",
    "    centers = np.random.randn(k,cols)*std + mn\n",
    "    \n",
    "#     plt.scatter(centers[:,0], centers[:,1], marker='+', c='r', s=150)\n",
    "    \n",
    "    # to store old centers\n",
    "    co = np.zeros(centers.shape)\n",
    "    # to Store new centers\n",
    "    cn = deepcopy(centers) \n",
    "\n",
    "    clusters = np.zeros(rows)\n",
    "    distances = np.zeros((rows,k))\n",
    "\n",
    "    error = np.linalg.norm(cn - co)\n",
    "\n",
    "    # When, after an update, the estimate of that center stays the same, exit loop\n",
    "    while error != 0:\n",
    "        # Measure the distance to every center\n",
    "        for i in range(k):\n",
    "            distances[:,i] = np.linalg.norm(dimensions - cn[i], axis=1)\n",
    "        # Assign all training data to closest center\n",
    "        clusters = np.argmin(distances, axis = 1)\n",
    "\n",
    "        co = deepcopy(cn)\n",
    "        # Calculate mean for every cluster and update the center\n",
    "        for i in range(k):\n",
    "            cn[i] = np.mean(dimensions[clusters == i], axis=0)\n",
    "        error = np.linalg.norm(cn - co)\n",
    "    # centers_new   \n",
    "#     plt.scatter(cn[:,0], cn[:,1], marker='+', c='g', s=150)\n",
    "#     print(clusters)\n",
    "#     print(np.unique(clusters))\n",
    "    \n",
    "    #\n",
    "    cmat=contingency_matrix(clusters,lclass)\n",
    "#     print(cmat)\n",
    "\n",
    "    for i,item in enumerate(cmat):\n",
    "        print(\"Purity of clusters :\",i,\" :\", max(item)*100/sum(item))\n",
    "    \n",
    "    pure=0\n",
    "    for row in cmat:\n",
    "#         print(max(row))\n",
    "        pure+=max(row)\n",
    "    purity0=pure/len(label)\n",
    "    \n",
    "    return purity0\n",
    "    "
   ]
  },
  {
   "cell_type": "markdown",
   "metadata": {},
   "source": [
    "## Gaussian Mixture Model"
   ]
  },
  {
   "cell_type": "code",
   "execution_count": 20,
   "metadata": {},
   "outputs": [],
   "source": [
    "def GMM_fun(dimensions) :\n",
    "    \n",
    "    GMM=GaussianMixture(n_components=5).fit(dimensions)\n",
    "    gmmlabel=GMM.predict(dimensions)\n",
    "    \n",
    "    np.unique(gmmlabel)\n",
    "    cmat=contingency_matrix(gmmlabel,lclass)\n",
    "\n",
    "    for i,item in enumerate(cmat):\n",
    "        print(\"Purity of clusters :\",i,\" :\", max(item)*100/sum(item))\n",
    "\n",
    "    pure1=0\n",
    "    for i in cmat:\n",
    "        pure1+=max(i)\n",
    "    #     print(max(i))\n",
    "    purity1=pure1/len(label)\n",
    "    print('GMM Purity:', purity1)\n",
    "    \n",
    "    return purity1"
   ]
  },
  {
   "cell_type": "markdown",
   "metadata": {},
   "source": [
    "## Hierarchial Clustering"
   ]
  },
  {
   "cell_type": "code",
   "execution_count": 21,
   "metadata": {},
   "outputs": [],
   "source": [
    "def hierarchial_cluster(dimensions) :\n",
    "    cc=AgglomerativeClustering(n_clusters=5,affinity='euclidean',linkage='single')\n",
    "    aclabel=cc.fit_predict(dimensions)\n",
    "    np.unique(aclabel)\n",
    "    \n",
    "    cmat2=contingency_matrix(aclabel,lclass)\n",
    "    \n",
    "    for i,item in enumerate(cmat2):\n",
    "        print(\"Purity of clusters :\",i,\" :\", max(item)*100/sum(item))\n",
    "\n",
    "    pure2=0\n",
    "    for i in cmat2:\n",
    "        pure2+=max(i)\n",
    "    purity2=pure2/len(label)\n",
    "    print('Hierarchical Purity:', purity2)\n",
    "    \n",
    "    return purity2\n",
    " "
   ]
  },
  {
   "cell_type": "markdown",
   "metadata": {},
   "source": [
    "## Reading data from files"
   ]
  },
  {
   "cell_type": "code",
   "execution_count": 22,
   "metadata": {},
   "outputs": [
    {
     "name": "stdout",
     "output_type": "stream",
     "text": [
      "Reduced Dimensions : 14\n",
      "Purity of clusters : 0  : 95.0617283951\n",
      "Purity of clusters : 1  : 84.4781445138\n",
      "Purity of clusters : 2  : 50.4811250925\n",
      "Purity of clusters : 3  : 88.9601691928\n",
      "Purity of clusters : 4  : 98.2631350413\n",
      "K-means Purity is: 0.87190975278\n",
      "Purity of clusters : 0  : 99.7578692494\n",
      "Purity of clusters : 1  : 45.6643792888\n",
      "Purity of clusters : 2  : 45.1342766388\n",
      "Purity of clusters : 3  : 100.0\n",
      "Purity of clusters : 4  : 92.4021040327\n",
      "GMM Purity: 0.781342507401\n",
      "Purity of clusters : 0  : 100.0\n",
      "Purity of clusters : 1  : 53.4475169074\n",
      "Purity of clusters : 2  : 100.0\n",
      "Purity of clusters : 3  : 100.0\n",
      "Purity of clusters : 4  : 100.0\n",
      "Hierarchical Purity: 0.534642771422\n"
     ]
    }
   ],
   "source": [
    "df = pd.read_csv('intrusion_detection/data.csv') \n",
    "# df = df.head(1000)\n",
    "# print(df)\n",
    "label = df['xAttack']\n",
    "df = df.drop(['xAttack'],axis =1)\n",
    "\n",
    "\n",
    "# print(df)\n",
    "#calculating eigens values and vectors\n",
    "evalue,evec,ndata = calculate_eigens(df)\n",
    "\n",
    "#store e_val,evec in dict as key-value\n",
    "mydict = {}\n",
    "\n",
    "#selecting dimensions wtih 10% tolerance\n",
    "dimensions = select_dimensions(mydict,evalue,evec,ndata)\n",
    "print('Reduced Dimensions :',dimensions.shape[1])\n",
    "\n",
    "\n",
    "#converting unique vals of label [xAttack] attr into integer categories\n",
    "uv = np.unique(label)\n",
    "# print(uv)\n",
    "cat = [0,1,2,3,4]\n",
    "#converted label data into int class list \n",
    "lclass=[]\n",
    "for i in range(len(label)):\n",
    "    if label[i]=='dos':\n",
    "        lclass.append(cat[0])\n",
    "    if label[i]=='normal':\n",
    "        lclass.append(cat[1])\n",
    "    if label[i]=='probe':\n",
    "        lclass.append(cat[2])\n",
    "    if label[i]=='r2l':\n",
    "        lclass.append(cat[3])\n",
    "    if label[i]=='u2r':\n",
    "        lclass.append(cat[4])\n",
    "# print(lclass)\n",
    "\n",
    "# kmeans on reduced dimenasions\n",
    "k = 5\n",
    "purity0 = k_means(k,dimensions)\n",
    "print('K-means Purity is:', purity0)\n",
    "\n",
    "#GMM_fun\n",
    "purity1 = GMM_fun(dimensions)\n",
    "\n",
    "#Hierarchial clustering\n",
    "purity2 = hierarchial_cluster(dimensions)\n",
    "\n"
   ]
  },
  {
   "cell_type": "markdown",
   "metadata": {},
   "source": [
    "## PIE Chart"
   ]
  },
  {
   "cell_type": "code",
   "execution_count": 23,
   "metadata": {},
   "outputs": [
    {
     "data": {
      "image/png": "[encoded data removed]",
      "text/plain": [
       "<Figure size 432x288 with 1 Axes>"
      ]
     },
     "metadata": {},
     "output_type": "display_data"
    }
   ],
   "source": [
    "import matplotlib.pyplot as plt\n",
    "slices_hours = [purity0, purity1, purity2]\n",
    "activities = ['K-Means', 'GMM', 'Hierarchical']\n",
    "explode = (0.025, 0.025, 0.025)\n",
    "colors = ['red', 'blue','green']\n",
    "fig1, ax1 = plt.subplots()\n",
    "ax1.pie(slices_hours, explode=explode,colors=colors, labels=activities, autopct='%1.1f%%',\n",
    "        shadow=True, startangle=120)\n",
    "ax1.axis('equal') \n",
    "plt.show()"
   ]
  },
  {
   "cell_type": "code",
   "execution_count": null,
   "metadata": {},
   "outputs": [],
   "source": []
  }
 ],
 "metadata": {
  "kernelspec": {
   "display_name": "Python 3",
   "language": "python",
   "name": "python3"
  },
  "language_info": {
   "codemirror_mode": {
    "name": "ipython",
    "version": 3
   },
   "file_extension": ".py",
   "mimetype": "text/x-python",
   "name": "python",
   "nbconvert_exporter": "python",
   "pygments_lexer": "ipython3",
   "version": "3.6.7"
  }
 },
 "nbformat": 4,
 "nbformat_minor": 2
}
