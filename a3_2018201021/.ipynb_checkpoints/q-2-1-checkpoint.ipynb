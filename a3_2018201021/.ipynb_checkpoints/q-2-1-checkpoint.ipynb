{
 "cells": [
  {
   "cell_type": "markdown",
   "metadata": {},
   "source": [
    "## Import Libraries"
   ]
  },
  {
   "cell_type": "code",
   "execution_count": 1,
   "metadata": {},
   "outputs": [],
   "source": [
    "import pandas as pd\n",
    "import numpy as np\n",
    "import matplotlib.pyplot as plt\n",
    "import math\n",
    "import random\n",
    "import operator\n",
    "from sklearn.model_selection import train_test_split\n",
    "\n",
    "from sklearn import linear_model\n",
    "from sklearn.metrics import classification_report,mean_absolute_error,mean_squared_error\n",
    "from sklearn.metrics import confusion_matrix\n",
    "from sklearn.metrics import accuracy_score\n",
    "from sklearn.metrics import r2_score"
   ]
  },
  {
   "cell_type": "markdown",
   "metadata": {},
   "source": [
    "## Sigmoid func"
   ]
  },
  {
   "cell_type": "code",
   "execution_count": 2,
   "metadata": {},
   "outputs": [],
   "source": [
    "def sigmoid(z):\n",
    "    return 1 / (1 + np.exp(-z))"
   ]
  },
  {
   "cell_type": "markdown",
   "metadata": {},
   "source": [
    "## Loss function"
   ]
  },
  {
   "cell_type": "code",
   "execution_count": 3,
   "metadata": {},
   "outputs": [],
   "source": [
    "def loss(h, y):\n",
    "    return (-y * np.log(h) - (1 - y) * np.log(1 - h)).mean()\n"
   ]
  },
  {
   "cell_type": "markdown",
   "metadata": {},
   "source": [
    "## Gradient Descent"
   ]
  },
  {
   "cell_type": "code",
   "execution_count": 4,
   "metadata": {},
   "outputs": [],
   "source": [
    "def grad_decent(train,test,train_y,test_y) :\n",
    " \n",
    "    X=train.values\n",
    "    z = np.ones((len(train),1))\n",
    "    X=np.append(z,X, axis=1)\n",
    "    y=train_y\n",
    "    beta = np.zeros(X.shape[1]) \n",
    "\n",
    "\n",
    "    X1=test.values\n",
    "    z1 = np.ones((len(test),1))\n",
    "    X1=np.append(z1,X1, axis=1)\n",
    "    y1=test_y\n",
    "    beta1 = np.zeros(X1.shape[1]) \n",
    "\n",
    "\n",
    "    # print(type(X))\n",
    "    lr=0.01\n",
    "\n",
    "    for i in range(30000):\n",
    "        z = np.dot(X, beta)\n",
    "        h = sigmoid(z)\n",
    "        gradient = np.dot(X.T, (h - y)) / y.size\n",
    "        beta -= lr * gradient\n",
    "\n",
    "\n",
    "    z1 = np.dot(X1, beta1)\n",
    "    h = sigmoid(z1)\n",
    "    ans=sigmoid(np.dot(X1, beta1))\n",
    "    ans=np.where(ans>=0.5,1,0)\n",
    "\n",
    "\n",
    "    corr=0\n",
    "    for i in range(len(X1)):\n",
    "        if (test_y[i]==ans[i]):\n",
    "            corr+=1\n",
    "    print(corr/len(X1))\n"
   ]
  },
  {
   "cell_type": "markdown",
   "metadata": {},
   "source": [
    "## Reading data from files"
   ]
  },
  {
   "cell_type": "code",
   "execution_count": 5,
   "metadata": {},
   "outputs": [
    {
     "name": "stdout",
     "output_type": "stream",
     "text": [
      "0.9222222222222223\n"
     ]
    }
   ],
   "source": [
    "df = pd.read_csv('AdmissionDataset/data.csv') \n",
    "df=df.drop(['Serial No.'], axis = 1 )\n",
    "\n",
    "train,test = train_test_split(df, test_size=0.2)\n",
    "\n",
    "#converting train and test label into binary groups 0 or 1 \n",
    "train_y = train['Chance of Admit ']\n",
    "test_y = test['Chance of Admit ']\n",
    "train_y=np.where(train_y>=0.5,1,0)\n",
    "test_y=np.where(test_y>=0.5,1,0)\n",
    "\n",
    "\n",
    "# df=df.drop(['Serial No.','Chance of Admit '], axis = 1 )\n",
    "train = train.drop('Chance of Admit ',axis=1)\n",
    "test = test.drop('Chance of Admit ',axis=1)\n",
    "\n",
    "\n",
    "grad_decent(train,test,train_y,test_y)\n"
   ]
  },
  {
   "cell_type": "markdown",
   "metadata": {},
   "source": [
    "## using SKLearn "
   ]
  },
  {
   "cell_type": "code",
   "execution_count": 6,
   "metadata": {},
   "outputs": [
    {
     "name": "stderr",
     "output_type": "stream",
     "text": [
      "/home/anjul/.local/lib/python3.6/site-packages/sklearn/linear_model/logistic.py:758: ConvergenceWarning: lbfgs failed to converge. Increase the number of iterations.\n",
      "  \"of iterations.\", ConvergenceWarning)\n"
     ]
    },
    {
     "data": {
      "text/plain": [
       "0.93333333333333335"
      ]
     },
     "execution_count": 6,
     "metadata": {},
     "output_type": "execute_result"
    }
   ],
   "source": [
    "reg = linear_model.LogisticRegression(solver='lbfgs') \n",
    "reg.fit(train,train_y)\n",
    "pred2=reg.predict(test)\n",
    "accuracy_score(test_y,pred2)\n"
   ]
  },
  {
   "cell_type": "code",
   "execution_count": null,
   "metadata": {},
   "outputs": [],
   "source": []
  },
  {
   "cell_type": "code",
   "execution_count": null,
   "metadata": {},
   "outputs": [],
   "source": []
  },
  {
   "cell_type": "code",
   "execution_count": null,
   "metadata": {},
   "outputs": [],
   "source": []
  }
 ],
 "metadata": {
  "kernelspec": {
   "display_name": "Python 3",
   "language": "python",
   "name": "python3"
  },
  "language_info": {
   "codemirror_mode": {
    "name": "ipython",
    "version": 3
   },
   "file_extension": ".py",
   "mimetype": "text/x-python",
   "name": "python",
   "nbconvert_exporter": "python",
   "pygments_lexer": "ipython3",
   "version": "3.6.7"
  }
 },
 "nbformat": 4,
 "nbformat_minor": 2
}
