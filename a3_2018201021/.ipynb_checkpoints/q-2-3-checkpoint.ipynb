{
 "cells": [
  {
   "cell_type": "markdown",
   "metadata": {},
   "source": [
    "## Import Libraries"
   ]
  },
  {
   "cell_type": "code",
   "execution_count": 1,
   "metadata": {},
   "outputs": [],
   "source": [
    "import pandas as pd\n",
    "import numpy as np\n",
    "import matplotlib.pyplot as plt\n",
    "import math\n",
    "import random\n",
    "import operator\n",
    "from sklearn.model_selection import train_test_split\n",
    "\n",
    "from sklearn import linear_model\n",
    "from sklearn.metrics import classification_report,mean_absolute_error,mean_squared_error\n",
    "from sklearn.metrics import confusion_matrix\n",
    "from sklearn.metrics import accuracy_score\n",
    "from sklearn.metrics import r2_score\n",
    "\n",
    "\n",
    "import matplotlib.pyplot as plt "
   ]
  },
  {
   "cell_type": "markdown",
   "metadata": {},
   "source": [
    "\n",
    "## Sigmoid func"
   ]
  },
  {
   "cell_type": "code",
   "execution_count": 2,
   "metadata": {},
   "outputs": [],
   "source": [
    "def sigmoid(z):\n",
    "    return 1 / (1 + np.exp(-z))"
   ]
  },
  {
   "cell_type": "markdown",
   "metadata": {},
   "source": [
    "## Loss function"
   ]
  },
  {
   "cell_type": "code",
   "execution_count": 3,
   "metadata": {},
   "outputs": [],
   "source": [
    "def loss(h, y):\n",
    "    return (-y * np.log(h) - (1 - y) * np.log(1 - h)).mean()\n"
   ]
  },
  {
   "cell_type": "code",
   "execution_count": 4,
   "metadata": {},
   "outputs": [],
   "source": [
    "def printing(tp,fp,tn,fn):\n",
    "    a = (tp+fp)\n",
    "    b = (tp+fn)\n",
    "    if a:\n",
    "        rc=tp/a\n",
    "    if b:\n",
    "        pc=tp/b\n",
    "        \n",
    "    accu=((tp+tn)/(tp+tn+fp+fn))\n",
    "    \n",
    "    recall_list.append(rc)\n",
    "    precision_list.append(pc)\n",
    "    print(\"Recall: \", rc)\n",
    "    print(\"Precision: \", pc)\n",
    "    print(\"Accuracy\",accu)\n",
    "    accuracy_list.append(accu)"
   ]
  },
  {
   "cell_type": "code",
   "execution_count": 5,
   "metadata": {},
   "outputs": [],
   "source": [
    "def predict(X1,test_y1,ans):\n",
    "    tp,fp,fn,tn=0,0,0,0\n",
    "    corr= 0\n",
    "    for i in range(len(X1)):\n",
    "        if test_y1[i]==1 and ans[i]==1:\n",
    "            tp+=1\n",
    "        if test_y1[i]==1 and ans[i]==0:\n",
    "            fp+=1\n",
    "        if test_y1[i]==0 and ans[i]==0:\n",
    "            tn+=1\n",
    "        if test_y1[i]==0 and ans[i]==1:\n",
    "            fn+=1\n",
    "\n",
    "    printing(tp,fp,tn,fn)\n",
    "    \n",
    "    \n"
   ]
  },
  {
   "cell_type": "markdown",
   "metadata": {},
   "source": [
    "## Gradient Descent"
   ]
  },
  {
   "cell_type": "code",
   "execution_count": 6,
   "metadata": {},
   "outputs": [],
   "source": [
    "def grad_decent(train,test,train_y,test_y) :\n",
    " \n",
    "    X=train.values\n",
    "    z = np.ones((len(train),1))\n",
    "    X=np.append(z,X, axis=1)\n",
    "    y=train_y\n",
    "    beta = np.zeros(X.shape[1]) \n",
    "\n",
    "\n",
    "    X1=test.values\n",
    "    z1 = np.ones((len(test),1))\n",
    "    X1=np.append(z1,X1, axis=1)\n",
    "    y1=test_y\n",
    "    beta1 = np.zeros(X1.shape[1]) \n",
    "    \n",
    "    global accuracy_list,recall_list,precision_list\n",
    "    accuracy_list=[]\n",
    "    recall_list=[]\n",
    "    precision_list=[]\n",
    "    for x in range(2,9):\n",
    "        accu=0\n",
    "        x=x*0.1\n",
    "        train_y1=np.where(train_y>=x,1,0)\n",
    "        y=train_y1\n",
    "        test_y1=np.where(test_y>=x,1,0)\n",
    "        beta = np.zeros(X.shape[1]) \n",
    "        lr=0.01\n",
    "        for i in range(50000):\n",
    "            z = np.dot(X, beta)\n",
    "            h = sigmoid(z)\n",
    "            gradient = np.dot(X.T, (h - y)) / y.size\n",
    "            beta -= lr * gradient\n",
    "        z = np.dot(X1, beta)\n",
    "        h = sigmoid(z)\n",
    "        ans=sigmoid(np.dot(X1, beta))\n",
    "        ans=np.where(ans>=x,1,0)\n",
    "        \n",
    "        predict(X1,test_y1,ans)\n"
   ]
  },
  {
   "cell_type": "markdown",
   "metadata": {},
   "source": [
    "## Reading data from files"
   ]
  },
  {
   "cell_type": "code",
   "execution_count": 7,
   "metadata": {},
   "outputs": [
    {
     "name": "stdout",
     "output_type": "stream",
     "text": [
      "Recall:  1.0\n",
      "Precision:  1.0\n",
      "Accuracy 1.0\n",
      "Recall:  1.0\n",
      "Precision:  1.0\n",
      "Accuracy 1.0\n",
      "Recall:  0.9888888888888889\n",
      "Precision:  1.0\n",
      "Accuracy 0.9888888888888889\n",
      "Recall:  0.9111111111111111\n",
      "Precision:  1.0\n",
      "Accuracy 0.9111111111111111\n",
      "Recall:  0.6888888888888889\n",
      "Precision:  1.0\n",
      "Accuracy 0.6888888888888889\n",
      "Recall:  0.581081081081081\n",
      "Precision:  0.9555555555555556\n",
      "Accuracy 0.6333333333333333\n"
     ]
    },
    {
     "name": "stderr",
     "output_type": "stream",
     "text": [
      "/home/anjul/.local/lib/python3.6/site-packages/ipykernel_launcher.py:2: RuntimeWarning: overflow encountered in exp\n",
      "  \n"
     ]
    },
    {
     "name": "stdout",
     "output_type": "stream",
     "text": [
      "Recall:  0.47619047619047616\n",
      "Precision:  0.8\n",
      "Accuracy 0.7\n"
     ]
    }
   ],
   "source": [
    "df = pd.read_csv('AdmissionDataset/data.csv') \n",
    "df=df.drop(['Serial No.'], axis = 1 )\n",
    "\n",
    "train,test = train_test_split(df, test_size=0.2)\n",
    "\n",
    "#converting train and test label into binary groups 0 or 1 \n",
    "train_y = train['Chance of Admit ']\n",
    "test_y = test['Chance of Admit ']\n",
    "\n",
    "\n",
    "# df=df.drop(['Serial No.','Chance of Admit '], axis = 1 )\n",
    "train = train.drop('Chance of Admit ',axis=1)\n",
    "test = test.drop('Chance of Admit ',axis=1)\n",
    "\n",
    "\n",
    "grad_decent(train,test,train_y,test_y)\n"
   ]
  },
  {
   "cell_type": "markdown",
   "metadata": {},
   "source": []
  },
  {
   "cell_type": "code",
   "execution_count": 8,
   "metadata": {},
   "outputs": [
    {
     "data": {
      "image/png": "[encoded data removed]",
      "text/plain": [
       "<Figure size 432x288 with 1 Axes>"
      ]
     },
     "metadata": {
      "needs_background": "light"
     },
     "output_type": "display_data"
    }
   ],
   "source": [
    "plt.plot([0.2,0.3,0.4,0.5,0.6,0.7,0.8], recall_list, label = \"Recall\")\n",
    "plt.plot([0.2,0.3,0.4,0.5,0.6,0.7,0.8], precision_list, label = \"Precision\")\n",
    "plt.xlabel('Threshold Value') \n",
    "plt.ylabel('Precision - Recall Value') \n",
    "plt.legend() \n",
    "plt.grid()\n",
    "plt.title('Threshold V/s Precision-Recall') \n",
    "plt.show()"
   ]
  },
  {
   "cell_type": "code",
   "execution_count": null,
   "metadata": {},
   "outputs": [],
   "source": []
  },
  {
   "cell_type": "code",
   "execution_count": null,
   "metadata": {},
   "outputs": [],
   "source": []
  },
  {
   "cell_type": "code",
   "execution_count": null,
   "metadata": {},
   "outputs": [],
   "source": []
  }
 ],
 "metadata": {
  "kernelspec": {
   "display_name": "Python 3",
   "language": "python",
   "name": "python3"
  },
  "language_info": {
   "codemirror_mode": {
    "name": "ipython",
    "version": 3
   },
   "file_extension": ".py",
   "mimetype": "text/x-python",
   "name": "python",
   "nbconvert_exporter": "python",
   "pygments_lexer": "ipython3",
   "version": "3.6.7"
  }
 },
 "nbformat": 4,
 "nbformat_minor": 2
}
