{
 "cells": [
  {
   "cell_type": "markdown",
   "metadata": {},
   "source": [
    "## Import Libraries"
   ]
  },
  {
   "cell_type": "code",
   "execution_count": 34,
   "metadata": {},
   "outputs": [],
   "source": [
    "import pandas as pd\n",
    "import numpy as np\n",
    "import matplotlib.pyplot as plt\n",
    "import math\n",
    "import random\n",
    "import operator\n",
    "from sklearn.model_selection import train_test_split\n",
    "\n",
    "from sklearn import linear_model\n",
    "from sklearn.metrics import classification_report,mean_absolute_error,mean_squared_error\n",
    "from sklearn.metrics import confusion_matrix\n",
    "from sklearn.metrics import accuracy_score\n",
    "from sklearn.metrics import r2_score"
   ]
  },
  {
   "cell_type": "markdown",
   "metadata": {},
   "source": [
    "# USING LOGISTIC REGRESSION"
   ]
  },
  {
   "cell_type": "markdown",
   "metadata": {},
   "source": [
    "## Sigmoid func"
   ]
  },
  {
   "cell_type": "code",
   "execution_count": 35,
   "metadata": {},
   "outputs": [],
   "source": [
    "def sigmoid(z):\n",
    "    return 1 / (1 + np.exp(-z))"
   ]
  },
  {
   "cell_type": "markdown",
   "metadata": {},
   "source": [
    "## Loss function"
   ]
  },
  {
   "cell_type": "code",
   "execution_count": 36,
   "metadata": {},
   "outputs": [],
   "source": [
    "def loss(h, y):\n",
    "    return (-y * np.log(h) - (1 - y) * np.log(1 - h)).mean()\n"
   ]
  },
  {
   "cell_type": "markdown",
   "metadata": {},
   "source": [
    "## Gradient Descent"
   ]
  },
  {
   "cell_type": "code",
   "execution_count": 37,
   "metadata": {},
   "outputs": [],
   "source": [
    "def grad_decent(train,test,train_y,test_y) :\n",
    " \n",
    "    X=train.values\n",
    "    z = np.ones((len(train),1))\n",
    "    X=np.append(z,X, axis=1)\n",
    "    y=train_y\n",
    "    beta = np.zeros(X.shape[1]) \n",
    "\n",
    "\n",
    "    X1=test.values\n",
    "    z1 = np.ones((len(test),1))\n",
    "    X1=np.append(z1,X1, axis=1)\n",
    "    y1=test_y\n",
    "    beta1 = np.zeros(X1.shape[1]) \n",
    "\n",
    "\n",
    "    # print(type(X))\n",
    "    lr=0.01\n",
    "\n",
    "    for i in range(30000):\n",
    "        z = np.dot(X, beta)\n",
    "        h = sigmoid(z)\n",
    "        gradient = np.dot(X.T, (h - y)) / y.size\n",
    "        beta -= lr * gradient\n",
    "\n",
    "\n",
    "    z1 = np.dot(X1, beta1)\n",
    "    h = sigmoid(z1)\n",
    "    ans=sigmoid(np.dot(X1, beta1))\n",
    "    ans=np.where(ans>=0.5,1,0)\n",
    "\n",
    "\n",
    "    corr=0\n",
    "    for i in range(len(X1)):\n",
    "        if (test_y[i]==ans[i]):\n",
    "            corr+=1\n",
    "    print(corr/len(X1))\n"
   ]
  },
  {
   "cell_type": "markdown",
   "metadata": {},
   "source": [
    "## Reading data from files"
   ]
  },
  {
   "cell_type": "code",
   "execution_count": 38,
   "metadata": {},
   "outputs": [
    {
     "name": "stdout",
     "output_type": "stream",
     "text": [
      "0.9333333333333333\n"
     ]
    }
   ],
   "source": [
    "df = pd.read_csv('AdmissionDataset/data.csv') \n",
    "df=df.drop(['Serial No.'], axis = 1 )\n",
    "\n",
    "train,test = train_test_split(df, test_size=0.2)\n",
    "\n",
    "#converting train and test label into binary groups 0 or 1 \n",
    "train_y = train['Chance of Admit ']\n",
    "test_y = test['Chance of Admit ']\n",
    "train_y=np.where(train_y>=0.5,1,0)\n",
    "test_y=np.where(test_y>=0.5,1,0)\n",
    "\n",
    "\n",
    "# df=df.drop(['Serial No.','Chance of Admit '], axis = 1 )\n",
    "train = train.drop('Chance of Admit ',axis=1)\n",
    "test = test.drop('Chance of Admit ',axis=1)\n",
    "\n",
    "\n",
    "grad_decent(train,test,train_y,test_y)\n"
   ]
  },
  {
   "cell_type": "markdown",
   "metadata": {},
   "source": [
    "## using SKLearn "
   ]
  },
  {
   "cell_type": "code",
   "execution_count": 39,
   "metadata": {},
   "outputs": [
    {
     "name": "stderr",
     "output_type": "stream",
     "text": [
      "/home/anjul/.local/lib/python3.6/site-packages/sklearn/linear_model/logistic.py:758: ConvergenceWarning: lbfgs failed to converge. Increase the number of iterations.\n",
      "  \"of iterations.\", ConvergenceWarning)\n"
     ]
    },
    {
     "data": {
      "text/plain": [
       "0.91111111111111109"
      ]
     },
     "execution_count": 39,
     "metadata": {},
     "output_type": "execute_result"
    }
   ],
   "source": [
    "reg = linear_model.LogisticRegression(solver='lbfgs') \n",
    "reg.fit(train,train_y)\n",
    "pred2=reg.predict(test)\n",
    "accuracy_score(test_y,pred2)\n"
   ]
  },
  {
   "cell_type": "code",
   "execution_count": null,
   "metadata": {},
   "outputs": [],
   "source": []
  },
  {
   "cell_type": "markdown",
   "metadata": {},
   "source": [
    "# USING KNN CLASSIFIER"
   ]
  },
  {
   "cell_type": "code",
   "execution_count": 40,
   "metadata": {},
   "outputs": [],
   "source": [
    "def Knn_classifier(train,row, k):\n",
    "    #to store {euclid sum , label} \n",
    "    my_dist = []\n",
    "    #l = no of cols in a row\n",
    "    l = len(row)\n",
    "    \n",
    "    #for finding label corresponding to a row \n",
    "    count = 0\n",
    "    \n",
    "    #calculating Euclidian distance for each row in validate by every row in train data\n",
    "    for r in train[:,:-1]:\n",
    "        sum = 0\n",
    "        #for each col in a row calculate Euclid dstance from rth row of train \n",
    "        for x in range(l):\n",
    "            sum+=pow(row[x] - r[x],2)\n",
    "            label = train [count][7]\n",
    "#             print(label)\n",
    "        count+=1\n",
    "        sum = math.sqrt(sum)\n",
    "        #appending distance of validate row with each train row in list\n",
    "        my_dist.append((sum,label))\n",
    "    \n",
    "    #sort distances in increasing order\n",
    "    my_dist.sort(key=lambda x: x[0])\n",
    "\n",
    "    #stores {label -> count) for k nearest rows  \n",
    "    predlabel = {}\n",
    "    \n",
    "    for x in range(k):\n",
    "        res = my_dist[x][1]\n",
    "        #if predlabel for that label empty, val=1\n",
    "        if res not in predlabel:\n",
    "            predlabel[res] = 1\n",
    "        #otherwise val+=1\n",
    "        predlabel[res] += 1\n",
    "    #sort predlabel in decreasing order\n",
    "    ans = sorted(predlabel.items(),reverse = True)\n",
    "    #return 1st value (maximum level count in K nearest neighbours)\n",
    "    k = ans[0][0]\n",
    "    return k\n"
   ]
  },
  {
   "cell_type": "code",
   "execution_count": 41,
   "metadata": {},
   "outputs": [],
   "source": [
    "def pfunction():\n",
    "    global tp,tn,fp,fn\n",
    "    print(\"tp :\",tp,\", tn :\",tn,\", fp :\",fp,\", fn :\",fn)\n",
    "\n",
    "    if(tp!=0 and fn!=0):\n",
    "        rc=tp/(tp+fn)\n",
    "    else:\n",
    "        rc = 1\n",
    "    if(tp!=0 and fp!=0):\n",
    "        pc=tp/(tp+fp)\n",
    "    else:\n",
    "        pc = 1\n",
    "    f1=2/((1/pc)+(1/rc))\n",
    "    print(\"recall :\",rc,\", precision :\",pc,\", F1 score :\",f1)\n",
    "    \n",
    "    return"
   ]
  },
  {
   "cell_type": "code",
   "execution_count": 42,
   "metadata": {},
   "outputs": [],
   "source": [
    "def find_correct(myans , myvalidate):\n",
    "    global correct,tp,tn,fp,fn\n",
    "    a = myvalidate[:][7]\n",
    "\n",
    "    if (myans == a):\n",
    "        correct +=1\n",
    "    if(myans==1 and a==1):\n",
    "        tp+=1\n",
    "    if(myans==1 and a==0):\n",
    "        fp+=1    \n",
    "    if(myans==0 and a==0):\n",
    "        tn+=1\n",
    "    if(myans==0 and a==1):\n",
    "        fn+=1\n",
    "        \n",
    "    return correct"
   ]
  },
  {
   "cell_type": "code",
   "execution_count": 43,
   "metadata": {},
   "outputs": [
    {
     "name": "stderr",
     "output_type": "stream",
     "text": [
      "/home/anjul/.local/lib/python3.6/site-packages/ipykernel_launcher.py:5: SettingWithCopyWarning: \n",
      "A value is trying to be set on a copy of a slice from a DataFrame.\n",
      "Try using .loc[row_indexer,col_indexer] = value instead\n",
      "\n",
      "See the caveats in the documentation: http://pandas.pydata.org/pandas-docs/stable/indexing.html#indexing-view-versus-copy\n",
      "  \"\"\"\n",
      "/home/anjul/.local/lib/python3.6/site-packages/ipykernel_launcher.py:6: SettingWithCopyWarning: \n",
      "A value is trying to be set on a copy of a slice from a DataFrame.\n",
      "Try using .loc[row_indexer,col_indexer] = value instead\n",
      "\n",
      "See the caveats in the documentation: http://pandas.pydata.org/pandas-docs/stable/indexing.html#indexing-view-versus-copy\n",
      "  \n"
     ]
    },
    {
     "name": "stdout",
     "output_type": "stream",
     "text": [
      "\n",
      "no of test samples 90\n",
      "Max_accuracy :  94.44444444444444 for k : 4\n"
     ]
    }
   ],
   "source": [
    "df = pd.read_csv('AdmissionDataset/data.csv')\n",
    "df=df.drop(['Serial No.'], axis = 1 )\n",
    "\n",
    "train,validate = train_test_split(df, test_size = 0.2)\n",
    "train['Chance of Admit ']=np.where(train['Chance of Admit ']>=0.5,1,0)\n",
    "validate['Chance of Admit ']=np.where(validate['Chance of Admit ']>=0.5,1,0)\n",
    "random.seed(0)\n",
    "\n",
    "train1=train\n",
    "val1=validate\n",
    "\n",
    "# taking all attr except last(no use) in train and myvalidate\n",
    "train = train.values\n",
    "myvalidate = validate.values\n",
    "\n",
    "# taking all attr except 1st(label) and last(no use) in validate_arr\n",
    "validate_arr = validate.iloc[:, 1:].astype(float)\n",
    "validate_arr = validate_arr.values\n",
    "\n",
    "acc_list = []\n",
    "correct = 0\n",
    "tp,fp,tn,fn=0,0,0,0\n",
    "max_accuracy = 0\n",
    "k_for_max_acc = 0\n",
    "for i in range(1,22) :\n",
    "    for row in range(len(validate_arr)):\n",
    "        #sending validate_arr row by row in KNN classifier\n",
    "        myans = Knn_classifier(train,validate_arr[row], i)\n",
    "        #matching predicted answer from correct for this row\n",
    "        corr = find_correct(myans , myvalidate[row])\n",
    "    #calculating accuracy and appending in list\n",
    "    accu = (corr/float(len(validate_arr)))*100\n",
    "    acc_list.append(accu)\n",
    "    if(accu>max_accuracy):\n",
    "        max_accuracy = accu\n",
    "        k_for_max_acc = i\n",
    "    correct = 0\n",
    "#     pfunction()\n",
    "#     print(\"no of test samples\", len(validate_arr))\n",
    "#     print(\"correct\",corr)\n",
    "#     print(\"accuracy\",accu)\n",
    "print(\"\\nno of test samples\", len(validate_arr))\n",
    "print(\"Max_accuracy : \",max_accuracy, \"for k :\",k_for_max_acc)\n"
   ]
  },
  {
   "cell_type": "code",
   "execution_count": null,
   "metadata": {},
   "outputs": [],
   "source": []
  }
 ],
 "metadata": {
  "kernelspec": {
   "display_name": "Python 3",
   "language": "python",
   "name": "python3"
  },
  "language_info": {
   "codemirror_mode": {
    "name": "ipython",
    "version": 3
   },
   "file_extension": ".py",
   "mimetype": "text/x-python",
   "name": "python",
   "nbconvert_exporter": "python",
   "pygments_lexer": "ipython3",
   "version": "3.6.7"
  }
 },
 "nbformat": 4,
 "nbformat_minor": 2
}
