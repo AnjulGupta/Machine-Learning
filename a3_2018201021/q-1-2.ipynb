{
 "cells": [
  {
   "cell_type": "markdown",
   "metadata": {},
   "source": [
    "## Import Libraries"
   ]
  },
  {
   "cell_type": "code",
   "execution_count": 1,
   "metadata": {},
   "outputs": [],
   "source": [
    "import pandas as pd\n",
    "import numpy as np\n",
    "import matplotlib.pyplot as plt\n",
    "import math\n",
    "import random\n",
    "import operator\n",
    "\n",
    "from numpy import linalg as la\n",
    "from copy import deepcopy\n",
    "from sklearn.metrics.cluster import contingency_matrix\n"
   ]
  },
  {
   "cell_type": "markdown",
   "metadata": {},
   "source": [
    "## Calculate Eigen values and vectors"
   ]
  },
  {
   "cell_type": "code",
   "execution_count": 2,
   "metadata": {},
   "outputs": [],
   "source": [
    "def calculate_eigens(df):\n",
    "    #finding atttr_wise(col_wise) mean and std\n",
    "    mn = np.mean(df)\n",
    "    std = np.std(df)\n",
    "    #normalizing data to (0-1) range\n",
    "    normalised = (df - mn)/std\n",
    "    #finding covariance matrix to make mat of order(attr * attr)\n",
    "    cov_mat = np.cov(normalised.T)\n",
    "    #calculating eval and evec\n",
    "    evalue,evec = la.eig(cov_mat)\n",
    "    return evalue,evec,normalised"
   ]
  },
  {
   "cell_type": "markdown",
   "metadata": {},
   "source": [
    "## Selecting  dimensions with 10% tolerance using PCA"
   ]
  },
  {
   "cell_type": "code",
   "execution_count": 3,
   "metadata": {},
   "outputs": [],
   "source": [
    "def select_dimensions(mydict,evalue,evec,ndata):\n",
    "    #storing eval,evec in dict as key-value\n",
    "    for i in range (len(evalue)) :\n",
    "        mydict[evalue[i]] = evec[i]\n",
    "    \n",
    "    #summing evalues \n",
    "    evalue_sum = sum(evalue)\n",
    "    #print(evalue_sum)\n",
    "    \n",
    "    #sorting evalues in decreasing order \n",
    "    evalue_sorted = sorted(evalue, reverse = True)\n",
    "    \n",
    "    min_val = .90\n",
    "    curr_val = 0\n",
    "    \n",
    "    #sel_dimensions list till tolerance becomes less than 0.1\n",
    "    dim_list = []\n",
    "    \n",
    "    \n",
    "    for i in range (len(evalue_sorted)) :\n",
    "        #while curr_tolerance is less than .9, include dimension in dim_list\n",
    "        curr_val = curr_val + evalue_sorted[i]/evalue_sum\n",
    "        dim_list.append(mydict[evalue_sorted[i]])\n",
    "        if curr_val > 0.9 :\n",
    "            break\n",
    "        \n",
    "    #final reduced dimensions \n",
    "    dim_list = np.asarray(dim_list)\n",
    "    dim_list = dim_list.T\n",
    "    dimensions = np.dot(ndata,dim_list)\n",
    "    \n",
    "#     print(ndata.shape, dim_list.shape, dimensions.shape)\n",
    "    \n",
    "    #final reduced data is of dimensions (rows * reduced_attr)\n",
    "    return dimensions\n",
    "       "
   ]
  },
  {
   "cell_type": "code",
   "execution_count": null,
   "metadata": {},
   "outputs": [],
   "source": []
  },
  {
   "cell_type": "markdown",
   "metadata": {},
   "source": [
    "## K-means on Reduced Dimensions"
   ]
  },
  {
   "cell_type": "code",
   "execution_count": 4,
   "metadata": {},
   "outputs": [],
   "source": [
    "def k_means(k,dimensions) :\n",
    "    rows = dimensions.shape[0]\n",
    "    cols = dimensions.shape[1]\n",
    "    \n",
    "    mn = np.mean(dimensions, axis = 0)\n",
    "    std = np.std(dimensions, axis = 0)\n",
    "    centers = np.random.randn(k,cols)*std + mn\n",
    "    \n",
    "#     plt.scatter(centers[:,0], centers[:,1], marker='+', c='r', s=150)\n",
    "    \n",
    "    # to store old centers\n",
    "    co = np.zeros(centers.shape)\n",
    "    # to Store new centers\n",
    "    cn = deepcopy(centers) \n",
    "\n",
    "    clusters = np.zeros(rows)\n",
    "    distances = np.zeros((rows,k))\n",
    "\n",
    "    error = np.linalg.norm(cn - co)\n",
    "\n",
    "    # When, after an update, the estimate of that center stays the same, exit loop\n",
    "    while error != 0:\n",
    "        # Measure the distance to every center\n",
    "        for i in range(k):\n",
    "            distances[:,i] = np.linalg.norm(dimensions - cn[i], axis=1)\n",
    "        # Assign all training data to closest center\n",
    "        clusters = np.argmin(distances, axis = 1)\n",
    "\n",
    "        co = deepcopy(cn)\n",
    "        # Calculate mean for every cluster and update the center\n",
    "        for i in range(k):\n",
    "            cn[i] = np.mean(dimensions[clusters == i], axis=0)\n",
    "        error = np.linalg.norm(cn - co)\n",
    "    # centers_new   \n",
    "    plt.scatter(cn[:,0], cn[:,1], marker='+', c='g', s=150)\n",
    "#     print(clusters)\n",
    "#     print(np.unique(clusters))\n",
    "    \n",
    "    #\n",
    "    cmat=contingency_matrix(clusters,lclass)\n",
    "#     print(cmat)\n",
    "\n",
    "    for i,item in enumerate(cmat):\n",
    "        print(\"Purity of clusters :\",i,\" :\", max(item)*100/sum(item))\n",
    "    \n",
    "    pure=0\n",
    "    for row in cmat:\n",
    "#         print(max(row))\n",
    "        pure+=max(row)\n",
    "    purity=pure/len(label)\n",
    "    \n",
    "    return purity\n",
    "    "
   ]
  },
  {
   "cell_type": "markdown",
   "metadata": {},
   "source": [
    "## Reading data from files"
   ]
  },
  {
   "cell_type": "code",
   "execution_count": 5,
   "metadata": {},
   "outputs": [
    {
     "name": "stdout",
     "output_type": "stream",
     "text": [
      "Reduced Dimensions : 14\n",
      "Purity of clusters : 0  : 46.7283316204\n",
      "Purity of clusters : 1  : 98.1628815276\n",
      "Purity of clusters : 2  : 86.2802586077\n",
      "Purity of clusters : 3  : 65.4545454545\n",
      "Purity of clusters : 4  : 72.3366686286\n",
      "K-means Purity is: 0.838627090167\n"
     ]
    },
    {
     "data": {
      "image/png": "[encoded data removed]",
      "text/plain": [
       "<Figure size 432x288 with 1 Axes>"
      ]
     },
     "metadata": {
      "needs_background": "light"
     },
     "output_type": "display_data"
    }
   ],
   "source": [
    "df = pd.read_csv('intrusion_detection/data.csv') \n",
    "label = df['xAttack']\n",
    "df = df.drop(['xAttack'],axis =1)\n",
    "\n",
    "#calculating eigens values and vectors\n",
    "evalue,evec,ndata = calculate_eigens(df)\n",
    "\n",
    "#store e_val,evec in dict as key-value\n",
    "mydict = {}\n",
    "\n",
    "#selecting dimensions wtih 10% tolerance\n",
    "dimensions = select_dimensions(mydict,evalue,evec,ndata)\n",
    "print('Reduced Dimensions :',dimensions.shape[1])\n",
    "\n",
    "\n",
    "#converting unique vals of label [xAttack] attr into integer categories\n",
    "uv = np.unique(label)\n",
    "# print(uv)\n",
    "cat = [0,1,2,3,4]\n",
    "#converted label data into int class list \n",
    "lclass=[]\n",
    "for i in range(len(label)):\n",
    "    if label[i]=='dos':\n",
    "        lclass.append(cat[0])\n",
    "    if label[i]=='normal':\n",
    "        lclass.append(cat[1])\n",
    "    if label[i]=='probe':\n",
    "        lclass.append(cat[2])\n",
    "    if label[i]=='r2l':\n",
    "        lclass.append(cat[3])\n",
    "    if label[i]=='u2r':\n",
    "        lclass.append(cat[4])\n",
    "# print(lclass)\n",
    "\n",
    "\n",
    "# kmeans on reduced dimenasions\n",
    "k = 5\n",
    "purity = k_means(k,dimensions)\n",
    "print('K-means Purity is:', purity)\n"
   ]
  },
  {
   "cell_type": "code",
   "execution_count": null,
   "metadata": {},
   "outputs": [],
   "source": []
  },
  {
   "cell_type": "code",
   "execution_count": null,
   "metadata": {},
   "outputs": [],
   "source": []
  }
 ],
 "metadata": {
  "kernelspec": {
   "display_name": "Python 3",
   "language": "python",
   "name": "python3"
  },
  "language_info": {
   "codemirror_mode": {
    "name": "ipython",
    "version": 3
   },
   "file_extension": ".py",
   "mimetype": "text/x-python",
   "name": "python",
   "nbconvert_exporter": "python",
   "pygments_lexer": "ipython3",
   "version": "3.6.7"
  }
 },
 "nbformat": 4,
 "nbformat_minor": 2
}
