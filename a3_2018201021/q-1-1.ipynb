{
 "cells": [
  {
   "cell_type": "markdown",
   "metadata": {},
   "source": [
    "## Import Libraries"
   ]
  },
  {
   "cell_type": "code",
   "execution_count": 13,
   "metadata": {},
   "outputs": [],
   "source": [
    "import pandas as pd\n",
    "import numpy as np\n",
    "import matplotlib.pyplot as plt\n",
    "import math\n",
    "import random\n",
    "import operator\n",
    "from numpy import linalg as la"
   ]
  },
  {
   "cell_type": "markdown",
   "metadata": {},
   "source": [
    "## Calculate Eigen values and vectors"
   ]
  },
  {
   "cell_type": "code",
   "execution_count": 14,
   "metadata": {},
   "outputs": [],
   "source": [
    "def calculate_eigens(df):\n",
    "    #finding atttr_wise(col_wise) mean and std\n",
    "    mn = np.mean(df)\n",
    "    std = np.std(df)\n",
    "    #normalizing data to (0-1) range\n",
    "    normalised = (df - mn)/std\n",
    "    #finding covariance matrix to make mat of order(attr * attr)\n",
    "    cov_mat = np.cov(normalised.T)\n",
    "    #calculating eval and evec\n",
    "    evalue,evec = la.eig(cov_mat)\n",
    "    return evalue,evec,normalised"
   ]
  },
  {
   "cell_type": "markdown",
   "metadata": {},
   "source": [
    "## Selecting  dimensions with 10% tolerance using PCA"
   ]
  },
  {
   "cell_type": "code",
   "execution_count": 15,
   "metadata": {},
   "outputs": [],
   "source": [
    "def select_dimensions(mydict,evalue,evec,ndata):\n",
    "    #storing eval,evec in dict as key-value\n",
    "    for i in range (len(evalue)) :\n",
    "        mydict[evalue[i]] = evec[i]\n",
    "    \n",
    "    #summing evalues \n",
    "    evalue_sum = sum(evalue)\n",
    "    #print(evalue_sum)\n",
    "    \n",
    "    #sorting evalues in decreasing order \n",
    "    evalue_sorted = sorted(evalue, reverse = True)\n",
    "    \n",
    "    min_val = .90\n",
    "    curr_val = 0\n",
    "    \n",
    "    #sel_dimensions list till tolerance becomes less than 0.1\n",
    "    dim_list = []\n",
    "    \n",
    "    \n",
    "    for i in range (len(evalue_sorted)) :\n",
    "        #while curr_tolerance is less than .9, include dimension in dim_list\n",
    "        curr_val = curr_val + evalue_sorted[i]/evalue_sum\n",
    "        dim_list.append(mydict[evalue_sorted[i]])\n",
    "        if curr_val > 0.9 :\n",
    "            break\n",
    "        \n",
    "#     print (curr_val)\n",
    "#     print (dim_list)\n",
    "    \n",
    "    #final reduced dimensions \n",
    "    dim_list = np.asarray(dim_list)\n",
    "    dim_list = dim_list.T\n",
    "    dimensions = np.dot(ndata,dim_list)\n",
    "    \n",
    "#     print(ndata.shape, dim_list.shape, dimensions.shape)\n",
    "    \n",
    "    #final reduced data is of dimensions (rows * reduced_attr)\n",
    "    print ('Accuracy is :',curr_val)\n",
    "    print('Reduced Dimensions :',dimensions.shape[1])\n",
    "    \n"
   ]
  },
  {
   "cell_type": "markdown",
   "metadata": {},
   "source": [
    "## Reading data from files"
   ]
  },
  {
   "cell_type": "code",
   "execution_count": 16,
   "metadata": {},
   "outputs": [
    {
     "name": "stdout",
     "output_type": "stream",
     "text": [
      "Accuracy is : 0.909319025215\n",
      "Reduced Dimensions : 14\n",
      "\n"
     ]
    }
   ],
   "source": [
    "df = pd.read_csv('intrusion_detection/data.csv') \n",
    "label = df['xAttack']\n",
    "df = df.drop(['xAttack'],axis =1)\n",
    "\n",
    "\n",
    "evalue,evec,ndata = calculate_eigens(df)\n",
    "\n",
    "#store e_val,evec in dict as key-value\n",
    "mydict = {}\n",
    "\n",
    "select_dimensions(mydict,evalue,evec,ndata)\n"
   ]
  }
 ],
 "metadata": {
  "kernelspec": {
   "display_name": "Python 3",
   "language": "python",
   "name": "python3"
  },
  "language_info": {
   "codemirror_mode": {
    "name": "ipython",
    "version": 3
   },
   "file_extension": ".py",
   "mimetype": "text/x-python",
   "name": "python",
   "nbconvert_exporter": "python",
   "pygments_lexer": "ipython3",
   "version": "3.6.7"
  }
 },
 "nbformat": 4,
 "nbformat_minor": 2
}
