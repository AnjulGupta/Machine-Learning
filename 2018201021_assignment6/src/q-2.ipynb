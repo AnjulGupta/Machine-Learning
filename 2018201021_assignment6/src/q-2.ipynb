{
 "cells": [
  {
   "cell_type": "markdown",
   "metadata": {},
   "source": [
    "## Part 2:\n",
    "#### 1. Parameters in  convolution layer = ( Height * Width + Bias ) * No.of Channels  \n",
    "####     Parameters in 1st convolution layer = (5 * 5 + 1) * 6 = 156\n",
    "#### 2. Number of parameters in pooling operation = 0\n",
    "#### 3. No. of parameters in following:- \n",
    "#### a) Convolution Layer 1 = 156     \n",
    "#### b) Convolution Layer 2 = (5 * 5 * 6  + 1) * 16 = 2416  \n",
    "#### b) Pooling Layer = 0 \n",
    "#### c) Fully connected layer (FC) = (84 + 1) * 120 = 10,200 \n",
    "#### d) Activation Functions = 84\n",
    "#### Ans. c)FC Layer\n",
    "#### 4. Fully connected layers at the end consume most amount of memory as their weight and activations matrix is more complex than convolutional layers feature map matrix."
   ]
  },
  {
   "cell_type": "code",
   "execution_count": null,
   "metadata": {},
   "outputs": [],
   "source": []
  }
 ],
 "metadata": {
  "kernelspec": {
   "display_name": "Python 3",
   "language": "python",
   "name": "python3"
  },
  "language_info": {
   "codemirror_mode": {
    "name": "ipython",
    "version": 3
   },
   "file_extension": ".py",
   "mimetype": "text/x-python",
   "name": "python",
   "nbconvert_exporter": "python",
   "pygments_lexer": "ipython3",
   "version": "3.6.7"
  }
 },
 "nbformat": 4,
 "nbformat_minor": 2
}
