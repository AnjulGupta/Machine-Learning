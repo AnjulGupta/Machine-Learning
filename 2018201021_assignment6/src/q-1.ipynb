{
 "cells": [
  {
   "cell_type": "markdown",
   "metadata": {},
   "source": [
    "## Importing Libraries"
   ]
  },
  {
   "cell_type": "code",
   "execution_count": 1,
   "metadata": {},
   "outputs": [],
   "source": [
    "import numpy as np\n",
    "import pandas as pd\n",
    "from scipy import ndimage\n",
    "from PIL import Image\n",
    "import scipy\n",
    "import matplotlib.pyplot as plt\n",
    "import math"
   ]
  },
  {
   "cell_type": "markdown",
   "metadata": {},
   "source": [
    "## Relu function"
   ]
  },
  {
   "cell_type": "code",
   "execution_count": 2,
   "metadata": {},
   "outputs": [],
   "source": [
    "def relu(x):\n",
    "    x[x < 0] = 0\n",
    "    return x\n"
   ]
  },
  {
   "cell_type": "markdown",
   "metadata": {},
   "source": [
    "## Reading Image and resizing "
   ]
  },
  {
   "cell_type": "code",
   "execution_count": 3,
   "metadata": {},
   "outputs": [
    {
     "name": "stdout",
     "output_type": "stream",
     "text": [
      "(32, 32, 1)\n"
     ]
    },
    {
     "data": {
      "image/png": "[encoded data removed]",
      "text/plain": [
       "<Figure size 432x288 with 1 Axes>"
      ]
     },
     "metadata": {
      "needs_background": "light"
     },
     "output_type": "display_data"
    }
   ],
   "source": [
    "my_img=Image.open(\"../input_data/img_11.jpg\")\n",
    "# resizing image 32 x 32\n",
    "my_img=my_img.resize((32,32))\n",
    "plt.imshow(my_img)\n",
    "\n",
    "inp_data=np.array(my_img)\n",
    "inp_data=inp_data.reshape(32,32,1)\n",
    "print(inp_data.shape)\n"
   ]
  },
  {
   "cell_type": "code",
   "execution_count": null,
   "metadata": {},
   "outputs": [],
   "source": []
  },
  {
   "cell_type": "markdown",
   "metadata": {},
   "source": [
    "## Convolution  base Func"
   ]
  },
  {
   "cell_type": "code",
   "execution_count": 24,
   "metadata": {},
   "outputs": [],
   "source": [
    "def convo_base_func(Previous_slice, Wt, bias):\n",
    "    temp = np.multiply(Previous_slice,Wt)\n",
    "    Z = np.sum(temp)\n",
    "    Z = Z+(bias)\n",
    "    Z = relu(Z)\n",
    "    return Z"
   ]
  },
  {
   "cell_type": "code",
   "execution_count": null,
   "metadata": {},
   "outputs": [],
   "source": []
  },
  {
   "cell_type": "markdown",
   "metadata": {},
   "source": [
    "## Convolution main Func"
   ]
  },
  {
   "cell_type": "code",
   "execution_count": 25,
   "metadata": {},
   "outputs": [],
   "source": [
    "def convolution_layer(IMAGE, Wt, bias):\n",
    "    (ht_p, width_p, channels_p) = IMAGE.shape\n",
    "    (f, f, channels_p, channels) = Wt.shape\n",
    "    \n",
    "    stride = 1    \n",
    "    ht = int((ht_p-f)/stride)+1\n",
    "    width = int((width_p-f)/stride)+1\n",
    "    \n",
    "    Z =np.zeros((ht,width,channels))\n",
    "                            \n",
    "    for h in range(ht):             \n",
    "        for w in range(width):                      \n",
    "            for c in range(channels):                   \n",
    "                vStart = h*stride\n",
    "                vEnd = vStart+f\n",
    "                hStart = w*stride\n",
    "                hEnd = hStart+f\n",
    "                a_slice_prev = IMAGE[vStart:vEnd,hStart:hEnd,:]\n",
    "                Z[h, w, c] = convo_base_func(a_slice_prev,Wt[:,:,:,c],bias[:,:,:,c])\n",
    "\n",
    "    return Z"
   ]
  },
  {
   "cell_type": "markdown",
   "metadata": {},
   "source": [
    "## Pooling main Func"
   ]
  },
  {
   "cell_type": "code",
   "execution_count": 26,
   "metadata": {},
   "outputs": [],
   "source": [
    "def pooling_layer(IMAGE,f_size):\n",
    "    (ht_p, width_p, channels_p) = IMAGE.shape\n",
    "    \n",
    "    stride = 2\n",
    "    ht = int((ht_p-f_size)/stride)+1\n",
    "    width = int((width_p-f_size)/stride)+1\n",
    "    channels=channels_p\n",
    "    \n",
    "    Z=np.zeros((ht,width,channels))             \n",
    "    \n",
    "    for h in range(ht):             \n",
    "        for w in range(width):                      \n",
    "            for c in range(channels):            \n",
    "                vStart = h*stride\n",
    "                vEnd = vStart+f_size\n",
    "                hStart = w*stride\n",
    "                hEnd = hStart+f_size\n",
    "                a_slice_prev =IMAGE[vStart:vEnd,hStart:hEnd,c]\n",
    "                \n",
    "                #using max function\n",
    "                Z[h, w, c] = np.max(a_slice_prev)\n",
    "    \n",
    "    return Z"
   ]
  },
  {
   "cell_type": "markdown",
   "metadata": {},
   "source": [
    "#### for c1 layer"
   ]
  },
  {
   "cell_type": "code",
   "execution_count": 27,
   "metadata": {},
   "outputs": [
    {
     "data": {
      "text/plain": [
       "(28, 28, 6)"
      ]
     },
     "execution_count": 27,
     "metadata": {},
     "output_type": "execute_result"
    }
   ],
   "source": [
    "Wt=np.random.randn(5,5,1,6)\n",
    "bias=np.random.randn(1,1,1,6)\n",
    "Z=convolution_layer(inp_data, Wt, bias)\n",
    "Z.shape"
   ]
  },
  {
   "cell_type": "code",
   "execution_count": 28,
   "metadata": {},
   "outputs": [
    {
     "data": {
      "image/png": "[encoded data removed]",
      "text/plain": [
       "<Figure size 432x288 with 6 Axes>"
      ]
     },
     "metadata": {
      "needs_background": "light"
     },
     "output_type": "display_data"
    }
   ],
   "source": [
    "fig, axes = plt.subplots(2,3)\n",
    "for i in range(3):\n",
    "    x=Image.fromarray(Z[:,:,i])\n",
    "    axes[0,i].imshow(x)\n",
    "#     plt.imshow(x)\n",
    "for i in range(3):\n",
    "    x=Image.fromarray(Z[:,:,i+3])\n",
    "    axes[1,i].imshow(x)"
   ]
  },
  {
   "cell_type": "markdown",
   "metadata": {},
   "source": [
    "#### for s2 layer"
   ]
  },
  {
   "cell_type": "code",
   "execution_count": 29,
   "metadata": {},
   "outputs": [
    {
     "data": {
      "text/plain": [
       "(14, 14, 6)"
      ]
     },
     "execution_count": 29,
     "metadata": {},
     "output_type": "execute_result"
    }
   ],
   "source": [
    "inp_data1=Z\n",
    "Wt=np.random.randn(2,2,6,6)\n",
    "bias=np.random.rand(1,1,1,6)\n",
    "Z=pooling_layer(inp_data1,2)\n",
    "Z.shape"
   ]
  },
  {
   "cell_type": "code",
   "execution_count": 30,
   "metadata": {},
   "outputs": [
    {
     "data": {
      "image/png": "[encoded data removed]",
      "text/plain": [
       "<Figure size 432x288 with 6 Axes>"
      ]
     },
     "metadata": {
      "needs_background": "light"
     },
     "output_type": "display_data"
    }
   ],
   "source": [
    "fig, axes = plt.subplots(2,3)\n",
    "for i in range(3):\n",
    "    x=Image.fromarray(Z[:,:,i])\n",
    "    axes[0,i].imshow(x)\n",
    "for i in range(3):\n",
    "    x=Image.fromarray(Z[:,:,i+3])\n",
    "    axes[1,i].imshow(x)"
   ]
  },
  {
   "cell_type": "markdown",
   "metadata": {},
   "source": [
    "#### for C3 layer"
   ]
  },
  {
   "cell_type": "code",
   "execution_count": 31,
   "metadata": {},
   "outputs": [
    {
     "data": {
      "text/plain": [
       "(10, 10, 16)"
      ]
     },
     "execution_count": 31,
     "metadata": {},
     "output_type": "execute_result"
    }
   ],
   "source": [
    "inp_data2=Z\n",
    "Wt=np.random.randn(5,5,6,16)\n",
    "bias=np.random.rand(1,1,1,16)\n",
    "Z= convolution_layer(inp_data2, Wt, bias)\n",
    "Z.shape"
   ]
  },
  {
   "cell_type": "code",
   "execution_count": 32,
   "metadata": {},
   "outputs": [
    {
     "data": {
      "image/png": "[encoded data removed]",
      "text/plain": [
       "<Figure size 432x288 with 16 Axes>"
      ]
     },
     "metadata": {
      "needs_background": "light"
     },
     "output_type": "display_data"
    }
   ],
   "source": [
    "fig, axes = plt.subplots(2,8)\n",
    "for i in range(8):\n",
    "    x=Image.fromarray(Z[:,:,i])\n",
    "    axes[0,i].imshow(x)\n",
    "for i in range(8):\n",
    "    x=Image.fromarray(Z[:,:,i+8])\n",
    "    axes[1,i].imshow(x)"
   ]
  },
  {
   "cell_type": "markdown",
   "metadata": {},
   "source": [
    "#### for S4 layer"
   ]
  },
  {
   "cell_type": "code",
   "execution_count": 33,
   "metadata": {},
   "outputs": [
    {
     "data": {
      "text/plain": [
       "(5, 5, 16)"
      ]
     },
     "execution_count": 33,
     "metadata": {},
     "output_type": "execute_result"
    }
   ],
   "source": [
    "inp_data3=Z\n",
    "Wt=np.random.randn(2,2,16,16)\n",
    "bias=np.random.rand(1,1,1,16)\n",
    "Z= pooling_layer(inp_data3,2)\n",
    "Z.shape"
   ]
  },
  {
   "cell_type": "code",
   "execution_count": 34,
   "metadata": {},
   "outputs": [
    {
     "data": {
      "image/png": "[encoded data removed]",
      "text/plain": [
       "<Figure size 432x288 with 16 Axes>"
      ]
     },
     "metadata": {
      "needs_background": "light"
     },
     "output_type": "display_data"
    }
   ],
   "source": [
    "fig, axes = plt.subplots(2,8)\n",
    "for i in range(8):\n",
    "    x=Image.fromarray(Z[:,:,i])\n",
    "    axes[0,i].imshow(x)\n",
    "for i in range(8):\n",
    "    x=Image.fromarray(Z[:,:,i+8])\n",
    "    axes[1,i].imshow(x)"
   ]
  },
  {
   "cell_type": "markdown",
   "metadata": {},
   "source": [
    "#### for C5 layer\n"
   ]
  },
  {
   "cell_type": "code",
   "execution_count": 35,
   "metadata": {},
   "outputs": [
    {
     "data": {
      "text/plain": [
       "(1, 1, 120)"
      ]
     },
     "execution_count": 35,
     "metadata": {},
     "output_type": "execute_result"
    }
   ],
   "source": [
    "inp_data4=Z\n",
    "Wt=np.random.randn(5,5,16,120)\n",
    "bias=np.random.rand(1,1,1,120)\n",
    "Z= convolution_layer(inp_data4, Wt, bias)\n",
    "Z.shape"
   ]
  },
  {
   "cell_type": "markdown",
   "metadata": {},
   "source": [
    "#### for F6 layer"
   ]
  },
  {
   "cell_type": "code",
   "execution_count": 37,
   "metadata": {},
   "outputs": [
    {
     "data": {
      "text/plain": [
       "(84, 1)"
      ]
     },
     "execution_count": 37,
     "metadata": {},
     "output_type": "execute_result"
    }
   ],
   "source": [
    "Act_c5=Z.reshape(120,1)\n",
    "WH=np.random.randn(120,84)*0.001\n",
    "ZH=np.dot(Act_c5.T,WH)\n",
    "AH=relu(ZH)\n",
    "AH=AH.T\n",
    "print(AH.shape)"
   ]
  },
  {
   "cell_type": "markdown",
   "metadata": {},
   "source": [
    "#### for Output layer"
   ]
  },
  {
   "cell_type": "code",
   "execution_count": 38,
   "metadata": {},
   "outputs": [
    {
     "name": "stdout",
     "output_type": "stream",
     "text": [
      "(10, 1)\n",
      "value predicted after 1 pass :  1\n"
     ]
    }
   ],
   "source": [
    "WH2=np.random.randn(84,10)*0.001\n",
    "ZH2=np.dot(AH.T,WH2)\n",
    "AHfinal=relu(ZH2)\n",
    "print(AHfinal.T.shape)\n",
    "\n",
    "# number guessed after first pass at output layer\n",
    "print(\"value predicted after 1st pass : \",np.argmax(AHfinal.T))"
   ]
  }
 ],
 "metadata": {
  "kernelspec": {
   "display_name": "Python 3",
   "language": "python",
   "name": "python3"
  },
  "language_info": {
   "codemirror_mode": {
    "name": "ipython",
    "version": 3
   },
   "file_extension": ".py",
   "mimetype": "text/x-python",
   "name": "python",
   "nbconvert_exporter": "python",
   "pygments_lexer": "ipython3",
   "version": "3.6.7"
  }
 },
 "nbformat": 4,
 "nbformat_minor": 2
}
