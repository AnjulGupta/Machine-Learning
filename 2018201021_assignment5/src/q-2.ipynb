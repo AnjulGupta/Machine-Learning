{
 "cells": [
  {
   "cell_type": "markdown",
   "metadata": {},
   "source": [
    "## Q-2"
   ]
  },
  {
   "cell_type": "markdown",
   "metadata": {},
   "source": [
    "### For predicting the sale price of a house -\n",
    "### We are using neural network with 3 layers.\n",
    "### we will Use ‘RELU’ as the activation function for the hidden layers\n",
    "### as the it gives value max(0,x). \n",
    "### We can use 'mean_absolute_error' or 'mean square error' as a loss function\n",
    "### We will Define the output layer with only one node to predict the sale price  \n",
    "### we will Use ‘linear’ as the activation function for the output layer as we want ouput as a predicted linear \n",
    "### value based on the model."
   ]
  },
  {
   "cell_type": "code",
   "execution_count": null,
   "metadata": {},
   "outputs": [],
   "source": []
  }
 ],
 "metadata": {
  "kernelspec": {
   "display_name": "Python 2",
   "language": "python",
   "name": "python2"
  },
  "language_info": {
   "codemirror_mode": {
    "name": "ipython",
    "version": 3
   },
   "file_extension": ".py",
   "mimetype": "text/x-python",
   "name": "python",
   "nbconvert_exporter": "python",
   "pygments_lexer": "ipython3",
   "version": "3.6.7"
  }
 },
 "nbformat": 4,
 "nbformat_minor": 2
}
