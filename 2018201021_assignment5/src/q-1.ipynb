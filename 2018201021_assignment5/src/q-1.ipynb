{
 "cells": [
  {
   "cell_type": "markdown",
   "metadata": {},
   "source": [
    "## Import Libraries"
   ]
  },
  {
   "cell_type": "code",
   "execution_count": 2,
   "metadata": {},
   "outputs": [],
   "source": [
    "import numpy as np \n",
    "import pandas as pd\n",
    "import matplotlib.pyplot as plt\n",
    "import random\n",
    "\n",
    "from sklearn.model_selection import train_test_split"
   ]
  },
  {
   "cell_type": "markdown",
   "metadata": {},
   "source": [
    "## Read Data from file"
   ]
  },
  {
   "cell_type": "code",
   "execution_count": 14,
   "metadata": {},
   "outputs": [],
   "source": [
    "df = pd.read_csv('Apparel/apparel-trainval.csv')"
   ]
  },
  {
   "cell_type": "code",
   "execution_count": 81,
   "metadata": {},
   "outputs": [],
   "source": [
    "df = df[0:6000]\n",
    "train,validate = train_test_split(df,test_size = 0.2)\n",
    "\n",
    "df_label=df['label']\n",
    "train_label=train['label']\n",
    "train=train.drop('label',axis=1)\n",
    "\n",
    "validate_label=validate['label']\n",
    "validate=validate.drop('label',axis=1)\n",
    "\n",
    "rows = train.shape[0]  \n",
    "cols = train.shape[1] \n",
    "validate_rows=validate.shape[0]\n"
   ]
  },
  {
   "cell_type": "markdown",
   "metadata": {},
   "source": [
    "## Convert Label into Label vector"
   ]
  },
  {
   "cell_type": "code",
   "execution_count": 82,
   "metadata": {},
   "outputs": [
    {
     "data": {
      "text/plain": [
       "(200, 10)"
      ]
     },
     "execution_count": 82,
     "metadata": {},
     "output_type": "execute_result"
    }
   ],
   "source": [
    "#output vector for 10 classes\n",
    "train_label_vector = []\n",
    "\n",
    "for i in (train_label):\n",
    "    temp=np.zeros((1, 10))\n",
    "    temp[0][i]=1\n",
    "    train_label_vector.append(temp)\n",
    "\n",
    "train_label_vector=np.array(train_label_vector).squeeze()\n",
    "train_label_vector.shape\n",
    "\n",
    "\n",
    "validate_label_vector = []\n",
    "\n",
    "for i in (validate_label):\n",
    "    temp=np.zeros((1, 10))\n",
    "    temp[0][i]=1\n",
    "    validate_label_vector.append(temp)\n",
    "\n",
    "validate_label_vector=np.array(validate_label_vector).squeeze()\n",
    "validate_label_vector.shape"
   ]
  },
  {
   "cell_type": "markdown",
   "metadata": {},
   "source": [
    "## Class to put Weight and Bias between Layers"
   ]
  },
  {
   "cell_type": "code",
   "execution_count": 83,
   "metadata": {},
   "outputs": [],
   "source": [
    "class Wgt_n_Bias:\n",
    "    def __init__(self, current_layer_nodes,next_layer_nodes, activation_function):\n",
    "        #nodes in current layer\n",
    "        self.current_layer_nodes = current_layer_nodes\n",
    "        #nodes in next layer\n",
    "        self.next_layer_nodes = next_layer_nodes\n",
    "        #activation_function \n",
    "        self.activation_function = activation_function\n",
    "        #activations\n",
    "        self.activations = np.zeros([current_layer_nodes,1])\n",
    "        \n",
    "        # putting weights and bias for layers\n",
    "        \n",
    "        # if not output layer set random weights and bias\n",
    "        if next_layer_nodes != 0:\n",
    "            self.weights = np.random.normal(0, 0.001, size=(current_layer_nodes, next_layer_nodes))\n",
    "            self.bias = np.random.normal(0, 0.001, size=(1, next_layer_nodes))\n",
    "        # if output layer set weight and bias to None\n",
    "        else:\n",
    "            self.weights = None\n",
    "            self.bias = None"
   ]
  },
  {
   "cell_type": "markdown",
   "metadata": {},
   "source": [
    "## Functions "
   ]
  },
  {
   "cell_type": "code",
   "execution_count": 84,
   "metadata": {},
   "outputs": [],
   "source": [
    "def sigmoid(x):  \n",
    "    return 1/(1+np.exp(-x))\n",
    "\n",
    "def sigmoid_der(x):  \n",
    "    return sigmoid(x) *(1-sigmoid (x))\n",
    "\n",
    "def softmax(A):  \n",
    "    expA = np.exp(A)\n",
    "    return expA / expA.sum(axis=1, keepdims=True)\n",
    "\n",
    "def tanh(x):\n",
    "    return np.tanh(x)\n",
    "\n",
    "def relu(x):\n",
    "    x[x < 0] = 0\n",
    "    return x\n",
    "\n",
    "def tanh_der(x):\n",
    "    return 1.0 - np.tanh(x)**2\n",
    "\n",
    "def relu_der(x):\n",
    "    x[x<=0] = 0\n",
    "    x[x>0] = 1\n",
    "    return x"
   ]
  },
  {
   "cell_type": "markdown",
   "metadata": {},
   "source": [
    "## Class to  make Neural Nertwork"
   ]
  },
  {
   "cell_type": "code",
   "execution_count": 122,
   "metadata": {},
   "outputs": [],
   "source": [
    "class Neu_net:\n",
    "    def __init__(self, layers, node_list, activation_function):\n",
    "        self.layers = layers\n",
    "        self.node_list = node_list\n",
    "        self.layer_list = []\n",
    "        self.error = 0\n",
    "        self.learning_rate = 0.0001\n",
    "        self.cost_function = \"cross_entropy\"\n",
    "\n",
    "        for i in range(layers):\n",
    "            \n",
    "            if i != layers-1:\n",
    "                layer_i = Wgt_n_Bias(node_list[i], node_list[i+1], activation_function[i])\n",
    "            else:\n",
    "                #if i is output layer\n",
    "                layer_i = Wgt_n_Bias(node_list[i], 0, activation_function[i])\n",
    "            self.layer_list.append(layer_i)\n",
    "                   \n",
    "\n",
    "    def forward_propagation(self, inputs):\n",
    "        self.layer_list[0].activations = inputs\n",
    "        for i in range(self.layers-1):\n",
    "            \n",
    "            temp = np.add(np.matmul(self.layer_list[i].activations, self.layer_list[i].weights), self.layer_list[i].bias)\n",
    "\n",
    "            if self.layer_list[i+1].activation_function == \"sigmoid\":\n",
    "                self.layer_list[i+1].activations = sigmoid(temp)\n",
    "            elif self.layer_list[i+1].activation_function == \"softmax\":\n",
    "                self.layer_list[i+1].activations = softmax(temp)\n",
    "            elif self.layer_list[i+1].activation_function == \"relu\":\n",
    "                self.layer_list[i+1].activations = relu(temp)\n",
    "            elif self.layer_list[i+1].activation_function == \"tanh\":\n",
    "                self.layer_list[i+1].activations = tanh(temp)\n",
    "            else:\n",
    "                self.layer_list[i+1].activations = temp\n",
    "                \n",
    "    def Error_func(self,label_vector):\n",
    "            self.error = np.sum(-label_vector * np.log(self.layer_list[-1].activations))\n",
    "        \n",
    "    def back_propagation(self,label_vector):\n",
    "        \n",
    "        #for the weight and bias of output layer\n",
    "        i = self.layers-1\n",
    "        diff_a_z=0\n",
    "        diff_e_z=self.layer_list[i].activations-label_vector\n",
    "        diff_z_w=self.layer_list[i-1].activations\n",
    "        diff_e_w=np.dot(diff_z_w.T, diff_e_z) \n",
    "        diff_e_b=diff_e_z\n",
    "\n",
    "        self.layer_list[i-1].weights -= self.learning_rate * diff_e_w\n",
    "        self.layer_list[i-1].bias -= self.learning_rate * diff_e_b.sum(axis=0)\n",
    "       \n",
    "        for i in range(i-1,0,-1):\n",
    "            diff_z_a=self.layer_list[i].weights\n",
    "            diff_e_a=np.dot(diff_e_z,diff_z_a.T)\n",
    "            \n",
    "            temp = np.add(np.matmul(self.layer_list[i-1].activations, self.layer_list[i-1].weights), self.layer_list[i-1].bias)\n",
    "\n",
    "            if self.layer_list[i].activation_function == \"sigmoid\":\n",
    "                diff_a_z=sigmoid_der(temp)\n",
    "            if self.layer_list[i].activation_function == \"relu\":\n",
    "                diff_a_z=relu_der(temp)\n",
    "            if self.layer_list[i].activation_function == \"tanh\":\n",
    "                diff_a_z=tanh_der(temp)\n",
    "\n",
    "            diff_z_w=self.layer_list[i-1].activations\n",
    "            diff_e_w=np.dot(diff_z_w.T,(diff_a_z*diff_e_a))\n",
    "            diff_e_b = diff_e_a*diff_a_z\n",
    "            diff_e_z=diff_e_b\n",
    "    \n",
    "            self.layer_list[i-1].weights -= self.learning_rate * diff_e_w\n",
    "            self.layer_list[i-1].bias -= self.learning_rate * diff_e_b.sum(axis=0)\n",
    "                         "
   ]
  },
  {
   "cell_type": "markdown",
   "metadata": {},
   "source": [
    "## Training Neural Network"
   ]
  },
  {
   "cell_type": "code",
   "execution_count": 123,
   "metadata": {},
   "outputs": [],
   "source": [
    "def Training_Network(batch_size, inputs, labels, num_epochs):\n",
    "    for j in range(num_epochs):\n",
    "        i = 0\n",
    "        while i+batch_size != len(inputs): \n",
    "            nn.error = 0\n",
    "            nn.forward_propagation(inputs[i:i+batch_size])\n",
    "            nn.Error_func(labels[i:i+batch_size])\n",
    "            nn.back_propagation(labels[i:i+batch_size])\n",
    "            i += batch_size"
   ]
  },
  {
   "cell_type": "code",
   "execution_count": 136,
   "metadata": {},
   "outputs": [],
   "source": [
    "# nn=Neu_net(layers=3, [l1,l2,l3], [None,\"f2\",\"f3\"])\n",
    "nn=Neu_net(3, [784,170,10], [None,\"sigmoid\",\"softmax\"])"
   ]
  },
  {
   "cell_type": "code",
   "execution_count": 137,
   "metadata": {},
   "outputs": [],
   "source": [
    "Training_Network(100,train,train_label_vector,1000)"
   ]
  },
  {
   "cell_type": "markdown",
   "metadata": {},
   "source": [
    "## Weight & Bias: Saving and Retrieving by file"
   ]
  },
  {
   "cell_type": "code",
   "execution_count": 138,
   "metadata": {},
   "outputs": [],
   "source": [
    "for i in range(nn.layers):\n",
    "    np.save('wgts'+str(i)+'.npy',nn.layer_list[i].weights)\n",
    "    np.save('bias'+str(i)+'.npy',nn.layer_list[i].bias)"
   ]
  },
  {
   "cell_type": "code",
   "execution_count": 139,
   "metadata": {},
   "outputs": [],
   "source": [
    "for i in range(nn.layers):\n",
    "    nn.layer_list[i].weights = np.load('wgts'+str(i)+'.npy')\n",
    "    nn.layer_list[i].bias=np.load('bias'+str(i)+'.npy')"
   ]
  },
  {
   "cell_type": "markdown",
   "metadata": {},
   "source": [
    "## Testing data-Calculating Accuracy"
   ]
  },
  {
   "cell_type": "code",
   "execution_count": 140,
   "metadata": {},
   "outputs": [],
   "source": [
    "nn.forward_propagation(validate)"
   ]
  },
  {
   "cell_type": "code",
   "execution_count": 141,
   "metadata": {},
   "outputs": [
    {
     "data": {
      "text/plain": [
       "78.5"
      ]
     },
     "execution_count": 141,
     "metadata": {},
     "output_type": "execute_result"
    }
   ],
   "source": [
    "count=0\n",
    "err_list=[]\n",
    "for i in range(validate_rows):  \n",
    "    actual=np.argmax(validate_label_vector[i])\n",
    "    predicted=np.argmax(nn.layer_list[-1].activations[i])\n",
    "    if(actual==predicted):\n",
    "        count+=1\n",
    "accuracy=(float(count)/validate_rows)*100\n",
    "accuracy\n"
   ]
  },
  {
   "cell_type": "markdown",
   "metadata": {},
   "source": [
    "## ACCURACIES\n",
    "### Accuracy from tanh : 69.90 \n",
    "### Accuracy from Relu :11.99   \n",
    "### Accuracy from Sigmoid: 78.50\n"
   ]
  },
  {
   "cell_type": "markdown",
   "metadata": {},
   "source": [
    "## Plotting Layers vs Prediction Loss"
   ]
  },
  {
   "cell_type": "code",
   "execution_count": 3,
   "metadata": {},
   "outputs": [
    {
     "data": {
      "image/png": "[encoded data removed]",
      "text/plain": [
       "<Figure size 432x288 with 1 Axes>"
      ]
     },
     "metadata": {
      "needs_background": "light"
     },
     "output_type": "display_data"
    }
   ],
   "source": [
    "plt.plot([3,4,5], [123,224,230])\n",
    "plt.xlabel('Layes ')\n",
    "plt.ylabel('Prediction Loss')\n",
    "plt.title('# Layers v/s Prediction Loss')\n",
    "plt.grid(True)\n",
    "plt.show()"
   ]
  },
  {
   "cell_type": "code",
   "execution_count": null,
   "metadata": {},
   "outputs": [],
   "source": []
  },
  {
   "cell_type": "markdown",
   "metadata": {},
   "source": [
    "## Plotting error vs epochs"
   ]
  },
  {
   "cell_type": "code",
   "execution_count": 144,
   "metadata": {},
   "outputs": [],
   "source": [
    "error=[]\n",
    "epochs=[]\n",
    "for i in range(10,200,20):\n",
    "    epochs.append(i)\n",
    "    nn=Neu_net(3, [784,170,10], [None,\"sigmoid\",\"softmax\"])\n",
    "    Training_Network(100,train[0:2000],train_label_vector,i)\n",
    "    nn.forward_propagation(validate)\n",
    "    count=0\n",
    "    for i in range(validate_rows):  \n",
    "        actual=np.argmax(validate_label_vector[i])\n",
    "        predicted=np.argmax(nn.layer_list[-1].activations[i])\n",
    "        if(actual==predicted):\n",
    "            count+=1\n",
    "    error.append((1-float(count)/validate_rows)*100)"
   ]
  },
  {
   "cell_type": "code",
   "execution_count": 145,
   "metadata": {},
   "outputs": [
    {
     "data": {
      "image/png": "[encoded data removed]",
      "text/plain": [
       "<Figure size 432x288 with 1 Axes>"
      ]
     },
     "metadata": {
      "needs_background": "light"
     },
     "output_type": "display_data"
    }
   ],
   "source": [
    "plt.plot(epochs,error)\n",
    "plt.xlabel('Epochs ')\n",
    "plt.ylabel('Errors')\n",
    "plt.title('Epochs v/s Error Rate')\n",
    "plt.grid(True)\n",
    "plt.show()"
   ]
  },
  {
   "cell_type": "code",
   "execution_count": null,
   "metadata": {},
   "outputs": [],
   "source": []
  },
  {
   "cell_type": "markdown",
   "metadata": {},
   "source": [
    "## Running model on Test file"
   ]
  },
  {
   "cell_type": "code",
   "execution_count": 100,
   "metadata": {},
   "outputs": [],
   "source": [
    "test = pd.read_csv('Apparel/apparel-test.csv')"
   ]
  },
  {
   "cell_type": "code",
   "execution_count": 101,
   "metadata": {},
   "outputs": [],
   "source": [
    "nn.forward_propagation(test)"
   ]
  },
  {
   "cell_type": "code",
   "execution_count": 102,
   "metadata": {},
   "outputs": [],
   "source": [
    "predicted=np.zeros([len(test)])\n",
    "for i in range(len(test)):\n",
    "    predicted[i]=np.argmax(nn.layer_list[-1].activations[i])\n",
    "    "
   ]
  },
  {
   "cell_type": "code",
   "execution_count": 103,
   "metadata": {},
   "outputs": [],
   "source": [
    "np.savetxt(\"2018201021_prediction.csv\", predicted.tolist(), delimiter=\",\",header='predicted')"
   ]
  },
  {
   "cell_type": "code",
   "execution_count": 104,
   "metadata": {},
   "outputs": [
    {
     "data": {
      "text/html": [
       "<div>\n",
       "<style scoped>\n",
       "    .dataframe tbody tr th:only-of-type {\n",
       "        vertical-align: middle;\n",
       "    }\n",
       "\n",
       "    .dataframe tbody tr th {\n",
       "        vertical-align: top;\n",
       "    }\n",
       "\n",
       "    .dataframe thead th {\n",
       "        text-align: right;\n",
       "    }\n",
       "</style>\n",
       "<table border=\"1\" class=\"dataframe\">\n",
       "  <thead>\n",
       "    <tr style=\"text-align: right;\">\n",
       "      <th></th>\n",
       "      <th># predicted</th>\n",
       "    </tr>\n",
       "  </thead>\n",
       "  <tbody>\n",
       "    <tr>\n",
       "      <th>0</th>\n",
       "      <td>6.0</td>\n",
       "    </tr>\n",
       "    <tr>\n",
       "      <th>1</th>\n",
       "      <td>1.0</td>\n",
       "    </tr>\n",
       "    <tr>\n",
       "      <th>2</th>\n",
       "      <td>2.0</td>\n",
       "    </tr>\n",
       "    <tr>\n",
       "      <th>3</th>\n",
       "      <td>6.0</td>\n",
       "    </tr>\n",
       "    <tr>\n",
       "      <th>4</th>\n",
       "      <td>1.0</td>\n",
       "    </tr>\n",
       "  </tbody>\n",
       "</table>\n",
       "</div>"
      ],
      "text/plain": [
       "   # predicted\n",
       "0          6.0\n",
       "1          1.0\n",
       "2          2.0\n",
       "3          6.0\n",
       "4          1.0"
      ]
     },
     "execution_count": 104,
     "metadata": {},
     "output_type": "execute_result"
    }
   ],
   "source": [
    "p=pd.read_csv(\"2018201021_prediction.csv\")\n",
    "p.head()"
   ]
  },
  {
   "cell_type": "code",
   "execution_count": null,
   "metadata": {},
   "outputs": [],
   "source": []
  },
  {
   "cell_type": "markdown",
   "metadata": {},
   "source": [
    "## Q-2"
   ]
  },
  {
   "cell_type": "markdown",
   "metadata": {},
   "source": [
    "### For predicting the sale price of a house -\n",
    "### We are using neural network with 3 layers.\n",
    "### we will Use ‘RELU’ as the activation function for the hidden layers\n",
    "### as the it gives value max(0,x). \n",
    "### We can use 'mean_absolute_error' or 'mean square error' as a loss function\n",
    "### We will Define the output layer with only one node to predict the sale price  \n",
    "### we will Use ‘linear’ as the activation function for the output layer as we want ouput as a predicted linear \n",
    "### value based on the model."
   ]
  },
  {
   "cell_type": "code",
   "execution_count": null,
   "metadata": {},
   "outputs": [],
   "source": []
  }
 ],
 "metadata": {
  "kernelspec": {
   "display_name": "Python 2",
   "language": "python",
   "name": "python2"
  },
  "language_info": {
   "codemirror_mode": {
    "name": "ipython",
    "version": 3
   },
   "file_extension": ".py",
   "mimetype": "text/x-python",
   "name": "python",
   "nbconvert_exporter": "python",
   "pygments_lexer": "ipython3",
   "version": "3.6.7"
  }
 },
 "nbformat": 4,
 "nbformat_minor": 2
}
