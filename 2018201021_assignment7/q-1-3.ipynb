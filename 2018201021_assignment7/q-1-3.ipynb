{
 "cells": [
  {
   "cell_type": "markdown",
   "metadata": {},
   "source": [
    "# Q-1-3  how the hyper-parameter λ plays a role in deciding between bias and variance"
   ]
  },
  {
   "cell_type": "markdown",
   "metadata": {},
   "source": [
    "## lambda (regularization factor)  controls tradeoff between how well the data is fit and how complex the model is  by adjusting the weight of the \n",
    "## penalty term in cost function. If λ is increased, model complexity will have a greater contribution to the cost this means that higher λ will bias ## the selection toward models with lower complexity.\n",
    "## At Lambda=0 Training Error is minimum (Overfitting case: LOW BIAS and HIGH VARIANCE)\n",
    "         \n",
    "## As we increase the value of lambda we will penalize the weights of some parameters to make our function LESS COMPLEX which makes the increment in ## TRAINING ERROR and decrement in TESTING ERROR until a suitable lambda is found. \n",
    "\n",
    "## Hence, regularization is useful when our model is overfitting.\n",
    "\n",
    "## We can find suitable value of lambda using testing error graph, when error is minimum.\n",
    "## At that value both bias and variance have moderate values, otherwise there is a trade-off b/w bias and variance i.e. one decreases and other \n",
    "## increases or vice-versa.\n",
    "\n",
    "## At λ=2, we get minimum test error for Ridge regression.\n",
    "## If we keep on increasing λ, test error will over-shoot and rise exponentially.\n",
    "\n",
    "## At λ=1, we get minimum test error for Lasso regression.\n",
    "## If we keep on increasing λ, test error will over-shoot and rise exponentially.\n"
   ]
  },
  {
   "cell_type": "code",
   "execution_count": null,
   "metadata": {},
   "outputs": [],
   "source": []
  }
 ],
 "metadata": {
  "kernelspec": {
   "display_name": "Python 3",
   "language": "python",
   "name": "python3"
  },
  "language_info": {
   "codemirror_mode": {
    "name": "ipython",
    "version": 3
   },
   "file_extension": ".py",
   "mimetype": "text/x-python",
   "name": "python",
   "nbconvert_exporter": "python",
   "pygments_lexer": "ipython3",
   "version": "3.6.7"
  }
 },
 "nbformat": 4,
 "nbformat_minor": 2
}
