{
 "cells": [
  {
   "cell_type": "code",
   "execution_count": 1,
   "metadata": {},
   "outputs": [],
   "source": [
    "# Making the imports\n",
    "import numpy as np\n",
    "import pandas as pd\n",
    "import matplotlib.pyplot as plt\n",
    "from sklearn.model_selection import train_test_split\n",
    "from pprint import pprint\n",
    "import random\n",
    "import math\n",
    "from numpy.linalg import inv"
   ]
  },
  {
   "cell_type": "code",
   "execution_count": 2,
   "metadata": {},
   "outputs": [],
   "source": [
    "# Preprocessing Input data\n",
    "df = pd.read_csv('AdmissionDataset/data.csv')"
   ]
  },
  {
   "cell_type": "code",
   "execution_count": 3,
   "metadata": {},
   "outputs": [],
   "source": [
    "train,test = train_test_split(df,test_size =0.2)\n",
    "#select columns for trainx and trainy from train\n",
    "trainx = train[['GRE Score', 'TOEFL Score', 'University Rating', 'SOP', 'LOR ', 'CGPA', 'Research']]\n",
    "trainy = train['Chance of Admit ']\n",
    "\n",
    "trainx1 = train[['GRE Score', 'TOEFL Score', 'University Rating', 'SOP', 'LOR ', 'CGPA', 'Research']]\n",
    "trainy1 = train['Chance of Admit ']\n"
   ]
  },
  {
   "cell_type": "code",
   "execution_count": 4,
   "metadata": {},
   "outputs": [],
   "source": [
    "## Normalised X data \n",
    "trainx = (trainx - trainx.mean())/trainx.std()\n"
   ]
  },
  {
   "cell_type": "code",
   "execution_count": 5,
   "metadata": {},
   "outputs": [
    {
     "data": {
      "text/plain": [
       "(360, 1)"
      ]
     },
     "execution_count": 5,
     "metadata": {},
     "output_type": "execute_result"
    }
   ],
   "source": [
    "#append col (with all rows having value =1) in x\n",
    "temp=np.ones((len(train),1))\n",
    "trainx=np.append(temp,trainx,axis=1)\n",
    "\n",
    "trainy = trainy.values\n",
    "trainy.resize(len(trainy),1)\n",
    "\n",
    "trainy.shape"
   ]
  },
  {
   "cell_type": "code",
   "execution_count": 6,
   "metadata": {},
   "outputs": [
    {
     "name": "stdout",
     "output_type": "stream",
     "text": [
      "(90, 8)\n"
     ]
    }
   ],
   "source": [
    "## predicting the values\n",
    "#normalizing the test data\n",
    "\n",
    "#select columns for testx and testy from train\n",
    "testx = test[['GRE Score', 'TOEFL Score', 'University Rating', 'SOP', 'LOR ', 'CGPA', 'Research']]\n",
    "testy = test['Chance of Admit ']\n",
    "\n",
    "testx1 = test[['GRE Score', 'TOEFL Score', 'University Rating', 'SOP', 'LOR ', 'CGPA', 'Research']]\n",
    "testy1 = test['Chance of Admit ']\n",
    "\n",
    "testx = (testx - testx.mean())/testx.std()\n",
    "\n",
    "#append col (with all rows having value =1) in x\n",
    "temp=np.ones((len(test),1))\n",
    "testx=np.append(temp,testx,axis=1)\n",
    "\n",
    "testy = testy.values\n",
    "testy.resize(len(testy),1)\n",
    "\n",
    "print(testx.shape)\n",
    "# Q_res.shape"
   ]
  },
  {
   "cell_type": "code",
   "execution_count": 7,
   "metadata": {},
   "outputs": [],
   "source": [
    "#function for calculating gradient descent\n",
    "def gradientDescent(trainx,y,Q,iters,LR,lamba):\n",
    "    for i in range(iters):\n",
    "        y_out = np.matmul(trainx, Q.T)\n",
    "        summation1 = np.sum(trainx * (y_out - y), axis=0)\n",
    "        summation2 = np.add(summation1, lamba * np.sign(Q))\n",
    "        Q = Q - ((LR/len(trainx)) * summation2)\n",
    "        \n",
    "#         y_pred = np.matmul(testx,Q.T)\n",
    "#         cost = np.sum((testy - y_pred)**2)/(2*len(testy))\n",
    "#         print(cost)\n",
    "    return Q"
   ]
  },
  {
   "cell_type": "code",
   "execution_count": 14,
   "metadata": {},
   "outputs": [
    {
     "name": "stdout",
     "output_type": "stream",
     "text": [
      "0.001885186760491774\n",
      "0.0015792000822788604\n",
      "0.001895489987264348\n",
      "0.0015393741836180243\n",
      "0.0019250611310833048\n",
      "0.0015290955109463357\n",
      "0.001974570829571716\n",
      "0.0015380546360737402\n",
      "0.002044052096087812\n",
      "0.0015662939229377885\n",
      "0.0021331580739402463\n",
      "0.0016133891558616036\n",
      "0.002242637468936175\n",
      "0.0016802477033857146\n",
      "0.002371565714368552\n",
      "0.0017657841043280421\n",
      "0.0025194492186604934\n",
      "0.0018681898539696922\n",
      "0.0026860853537407966\n",
      "0.00198657104959342\n"
     ]
    }
   ],
   "source": [
    "##hyperparameter lamba\n",
    "lamba = 0\n",
    "training_error_list = []\n",
    "error_list = []\n",
    "lamba_list = []\n",
    "\n",
    "# for lamba in range(1,10000,100):\n",
    "while (lamba<10):\n",
    "    Q = np.zeros([1,8])\n",
    "    LR = 0.001\n",
    "    iters = 20000\n",
    "    training_error = 0\n",
    "    error = 0\n",
    "    Q_res = gradientDescent(trainx,trainy,Q,iters,LR,lamba)\n",
    "    #print(Q_res)\n",
    "    y_pred = np.matmul(testx,Q_res.T)\n",
    "    # print(y_pred)\n",
    "\n",
    "    y_train_pred = np.matmul(trainx,Q_res.T)\n",
    "    \n",
    "    ##Calculating training error for lasso Regression\n",
    "    training_error = np.sum((trainy - y_train_pred)**2)/(2*len(trainy))\n",
    "    print(training_error)\n",
    "    \n",
    "    ##Calculating error for lasso Regression\n",
    "    error = np.sum((testy - y_pred)**2)/(2*len(testy))\n",
    "    print(error)\n",
    "    \n",
    "    lamba_list.append(lamba)\n",
    "    error_list.append(error)\n",
    "    training_error_list.append(training_error)\n",
    "    lamba +=1\n",
    "    "
   ]
  },
  {
   "cell_type": "code",
   "execution_count": 15,
   "metadata": {},
   "outputs": [],
   "source": [
    "# error_list"
   ]
  },
  {
   "cell_type": "code",
   "execution_count": 19,
   "metadata": {},
   "outputs": [
    {
     "data": {
      "image/png": "[encoded data removed]",
      "text/plain": [
       "<Figure size 432x288 with 1 Axes>"
      ]
     },
     "metadata": {
      "needs_background": "light"
     },
     "output_type": "display_data"
    }
   ],
   "source": [
    "#plotting graphs    \n",
    "plt.plot(lamba_list,error_list,label=\"Mean Square Error\")\n",
    "plt.title('lambda vs Test Error')\n",
    "plt.xlabel('lambda')\n",
    "plt.ylabel('Error')\n",
    "plt.grid(True)\n",
    "plt.legend()\n",
    "plt.show()"
   ]
  },
  {
   "cell_type": "code",
   "execution_count": 18,
   "metadata": {},
   "outputs": [
    {
     "data": {
      "image/png": "[encoded data removed]",
      "text/plain": [
       "<Figure size 432x288 with 1 Axes>"
      ]
     },
     "metadata": {
      "needs_background": "light"
     },
     "output_type": "display_data"
    }
   ],
   "source": [
    "#plotting graphs    \n",
    "plt.plot(lamba_list,training_error_list,label=\"Mean Square Error\")\n",
    "plt.title('lambda vs Training Error')\n",
    "plt.xlabel('lambda')\n",
    "plt.ylabel('Training Error')\n",
    "plt.grid(True)\n",
    "plt.legend()\n",
    "plt.show()"
   ]
  },
  {
   "cell_type": "code",
   "execution_count": null,
   "metadata": {},
   "outputs": [],
   "source": [
    "\n"
   ]
  },
  {
   "cell_type": "code",
   "execution_count": null,
   "metadata": {},
   "outputs": [],
   "source": [
    "\n"
   ]
  },
  {
   "cell_type": "code",
   "execution_count": null,
   "metadata": {},
   "outputs": [],
   "source": []
  },
  {
   "cell_type": "code",
   "execution_count": null,
   "metadata": {},
   "outputs": [],
   "source": []
  },
  {
   "cell_type": "code",
   "execution_count": null,
   "metadata": {},
   "outputs": [],
   "source": []
  },
  {
   "cell_type": "code",
   "execution_count": null,
   "metadata": {},
   "outputs": [],
   "source": []
  },
  {
   "cell_type": "code",
   "execution_count": null,
   "metadata": {},
   "outputs": [],
   "source": []
  },
  {
   "cell_type": "code",
   "execution_count": null,
   "metadata": {},
   "outputs": [],
   "source": []
  }
 ],
 "metadata": {
  "kernelspec": {
   "display_name": "Python 3",
   "language": "python",
   "name": "python3"
  },
  "language_info": {
   "codemirror_mode": {
    "name": "ipython",
    "version": 3
   },
   "file_extension": ".py",
   "mimetype": "text/x-python",
   "name": "python",
   "nbconvert_exporter": "python",
   "pygments_lexer": "ipython3",
   "version": "3.6.7"
  }
 },
 "nbformat": 4,
 "nbformat_minor": 2
}
