{
 "cells": [
  {
   "cell_type": "markdown",
   "metadata": {},
   "source": [
    "## For LAsso  regression"
   ]
  },
  {
   "cell_type": "code",
   "execution_count": 103,
   "metadata": {},
   "outputs": [],
   "source": [
    "# Making the imports\n",
    "import numpy as np\n",
    "import pandas as pd\n",
    "import matplotlib.pyplot as plt\n",
    "from sklearn.model_selection import train_test_split\n",
    "from pprint import pprint\n",
    "import random\n",
    "import math\n",
    "from numpy.linalg import inv"
   ]
  },
  {
   "cell_type": "code",
   "execution_count": 104,
   "metadata": {},
   "outputs": [],
   "source": [
    "# Preprocessing Input data\n",
    "df = pd.read_csv('AdmissionDataset/data.csv')"
   ]
  },
  {
   "cell_type": "code",
   "execution_count": 105,
   "metadata": {},
   "outputs": [],
   "source": [
    "train,test = train_test_split(df,test_size =0.2)\n",
    "#select columns for trainx and trainy from train\n",
    "trainx = train[['GRE Score', 'TOEFL Score', 'University Rating', 'SOP', 'LOR ', 'CGPA', 'Research']]\n",
    "trainy = train['Chance of Admit ']\n",
    "\n",
    "trainx1 = train[['GRE Score', 'TOEFL Score', 'University Rating', 'SOP', 'LOR ', 'CGPA', 'Research']]\n",
    "trainy1 = train['Chance of Admit ']\n"
   ]
  },
  {
   "cell_type": "code",
   "execution_count": 106,
   "metadata": {},
   "outputs": [],
   "source": [
    "## Normalised X data \n",
    "trainx = (trainx - trainx.mean())/trainx.std()\n"
   ]
  },
  {
   "cell_type": "code",
   "execution_count": 107,
   "metadata": {},
   "outputs": [
    {
     "data": {
      "text/plain": [
       "(360, 1)"
      ]
     },
     "execution_count": 107,
     "metadata": {},
     "output_type": "execute_result"
    }
   ],
   "source": [
    "#append col (with all rows having value =1) in x\n",
    "temp=np.ones((len(train),1))\n",
    "trainx=np.append(temp,trainx,axis=1)\n",
    "\n",
    "trainy = trainy.values\n",
    "trainy.resize(len(trainy),1)\n",
    "\n",
    "trainy.shape"
   ]
  },
  {
   "cell_type": "code",
   "execution_count": 108,
   "metadata": {},
   "outputs": [
    {
     "name": "stdout",
     "output_type": "stream",
     "text": [
      "(90, 8)\n"
     ]
    }
   ],
   "source": [
    "#select columns for testx and testy from train\n",
    "testx = test[['GRE Score', 'TOEFL Score', 'University Rating', 'SOP', 'LOR ', 'CGPA', 'Research']]\n",
    "testy = test['Chance of Admit ']\n",
    "\n",
    "testx1 = test[['GRE Score', 'TOEFL Score', 'University Rating', 'SOP', 'LOR ', 'CGPA', 'Research']]\n",
    "testy1 = test['Chance of Admit ']\n",
    "\n",
    "testx = (testx - testx.mean())/testx.std()\n",
    "\n",
    "#append col (with all rows having value =1) in x\n",
    "temp=np.ones((len(test),1))\n",
    "testx=np.append(temp,testx,axis=1)\n",
    "\n",
    "testy = testy.values\n",
    "testy.resize(len(testy),1)\n",
    "\n",
    "print(testx.shape)\n",
    "# Q_res.shape"
   ]
  },
  {
   "cell_type": "code",
   "execution_count": 109,
   "metadata": {},
   "outputs": [],
   "source": [
    "##hyperparameter lamba\n",
    "lamba = 10\n",
    "Q = np.zeros([1,8])\n",
    "LR = 0.0001\n",
    "iters = 50000\n"
   ]
  },
  {
   "cell_type": "code",
   "execution_count": 110,
   "metadata": {},
   "outputs": [
    {
     "name": "stdout",
     "output_type": "stream",
     "text": [
      "[[6.85986583e-01 2.30405029e-02 1.59772719e-02 4.51962428e-03\n",
      "  1.88862867e-04 5.56177714e-03 5.34749716e-02 1.15338511e-06]]\n"
     ]
    }
   ],
   "source": [
    "#function for calculating gradient descent\n",
    "def gradientDescent(trainx,y,Q,iters,LR,lamba):\n",
    "    for i in range(iters):\n",
    "        y_out = np.matmul(trainx, Q.T)\n",
    "        summation1 = np.sum(trainx * (y_out - y), axis=0)\n",
    "        summation2 = np.add(summation1, lamba * np.sign(Q))\n",
    "        Q = Q - ((LR/len(trainx)) * summation2)\n",
    "    return Q\n",
    "\n",
    "Q_res1 = gradientDescent(trainx,trainy,Q,iters,LR,lamba)\n",
    "print(Q_res1)"
   ]
  },
  {
   "cell_type": "code",
   "execution_count": null,
   "metadata": {},
   "outputs": [],
   "source": [
    "\n"
   ]
  },
  {
   "cell_type": "code",
   "execution_count": null,
   "metadata": {},
   "outputs": [],
   "source": []
  },
  {
   "cell_type": "markdown",
   "metadata": {},
   "source": [
    "## For Ridge Regression\n"
   ]
  },
  {
   "cell_type": "code",
   "execution_count": null,
   "metadata": {},
   "outputs": [],
   "source": []
  },
  {
   "cell_type": "code",
   "execution_count": null,
   "metadata": {},
   "outputs": [],
   "source": []
  },
  {
   "cell_type": "code",
   "execution_count": 111,
   "metadata": {},
   "outputs": [
    {
     "name": "stdout",
     "output_type": "stream",
     "text": [
      "[[0.69490201 0.02497559 0.02159374 0.0111103  0.00724508 0.01511327\n",
      "  0.05170016 0.01475596]]\n"
     ]
    }
   ],
   "source": [
    "#function for calculating gradient descent\n",
    "def gradientDescent2(trainx,y,Q,iters,LR,lamba):\n",
    "    for i in range(iters):\n",
    "        y_out = np.matmul(trainx, Q.T)\n",
    "        summation1 = np.sum(trainx * (y_out - y), axis=0)\n",
    "        summation2 = np.add(summation1, lamba*Q)\n",
    "        Q = Q - ((LR/len(trainx)) * summation2)\n",
    "    return Q\n",
    "\n",
    "Q_res2 = gradientDescent2(trainx,trainy,Q,iters,LR,lamba)\n",
    "print(Q_res2)"
   ]
  },
  {
   "cell_type": "code",
   "execution_count": null,
   "metadata": {},
   "outputs": [],
   "source": [
    "\n"
   ]
  },
  {
   "cell_type": "markdown",
   "metadata": {},
   "source": [
    "## Difference in Bias"
   ]
  },
  {
   "cell_type": "code",
   "execution_count": 114,
   "metadata": {},
   "outputs": [
    {
     "name": "stdout",
     "output_type": "stream",
     "text": [
      "[[-0.00891542 -0.00193509 -0.00561647 -0.00659068 -0.00705621 -0.00955149\n",
      "   0.00177481 -0.01475481]]\n"
     ]
    }
   ],
   "source": [
    "print(Q_res1-Q_res2)"
   ]
  },
  {
   "cell_type": "code",
   "execution_count": null,
   "metadata": {},
   "outputs": [],
   "source": []
  },
  {
   "cell_type": "code",
   "execution_count": null,
   "metadata": {},
   "outputs": [],
   "source": []
  }
 ],
 "metadata": {
  "kernelspec": {
   "display_name": "Python 3",
   "language": "python",
   "name": "python3"
  },
  "language_info": {
   "codemirror_mode": {
    "name": "ipython",
    "version": 3
   },
   "file_extension": ".py",
   "mimetype": "text/x-python",
   "name": "python",
   "nbconvert_exporter": "python",
   "pygments_lexer": "ipython3",
   "version": "3.6.7"
  }
 },
 "nbformat": 4,
 "nbformat_minor": 2
}
