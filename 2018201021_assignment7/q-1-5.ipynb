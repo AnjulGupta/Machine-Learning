{
 "cells": [
  {
   "cell_type": "markdown",
   "metadata": {},
   "source": [
    "## For K fold"
   ]
  },
  {
   "cell_type": "code",
   "execution_count": 1,
   "metadata": {},
   "outputs": [],
   "source": [
    "# Making the imports\n",
    "import numpy as np\n",
    "import pandas as pd\n",
    "import matplotlib.pyplot as plt\n",
    "from sklearn.model_selection import train_test_split\n",
    "from pprint import pprint\n",
    "import random\n",
    "import math\n",
    "from numpy.linalg import inv\n",
    "\n",
    "from sklearn.model_selection import KFold\n",
    "from sklearn.preprocessing import MinMaxScaler"
   ]
  },
  {
   "cell_type": "code",
   "execution_count": 2,
   "metadata": {},
   "outputs": [],
   "source": [
    "# Preprocessing Input data\n",
    "df = pd.read_csv('AdmissionDataset/data.csv')"
   ]
  },
  {
   "cell_type": "code",
   "execution_count": 3,
   "metadata": {},
   "outputs": [],
   "source": [
    "x = df[['GRE Score', 'TOEFL Score', 'University Rating', 'SOP', 'LOR ', 'CGPA', 'Research']]\n",
    "y = df['Chance of Admit ']\n"
   ]
  },
  {
   "cell_type": "code",
   "execution_count": 4,
   "metadata": {},
   "outputs": [
    {
     "name": "stderr",
     "output_type": "stream",
     "text": [
      "/home/anjul/.local/lib/python3.6/site-packages/sklearn/preprocessing/data.py:323: DataConversionWarning: Data with input dtype int64, float64 were all converted to float64 by MinMaxScaler.\n",
      "  return self.partial_fit(X, y)\n"
     ]
    },
    {
     "data": {
      "text/plain": [
       "(450, 1)"
      ]
     },
     "execution_count": 4,
     "metadata": {},
     "output_type": "execute_result"
    }
   ],
   "source": [
    "#Normalize the data\n",
    "scaler = MinMaxScaler(feature_range=(0, 1))\n",
    "x = scaler.fit_transform(x)\n",
    "# x\n",
    "\n",
    "#append col (with all rows having value =1) in x\n",
    "temp=np.ones((len(x),1))\n",
    "x=np.append(temp,x,axis=1)\n",
    "\n",
    "y = y.values\n",
    "y.resize(len(y),1)\n",
    "\n",
    "y.shape"
   ]
  },
  {
   "cell_type": "code",
   "execution_count": 5,
   "metadata": {},
   "outputs": [],
   "source": [
    "#function for calculating gradient descent\n",
    "def gradientDescent(trainx,y,Q,iters,LR,lamba):\n",
    "    for i in range(iters):\n",
    "        y_out = np.matmul(trainx, Q.T)\n",
    "        summation1 = np.sum(trainx * (y_out - y), axis=0)\n",
    "        summation2 = np.add(summation1, lamba*Q)\n",
    "        Q = Q - ((LR/len(trainx)) * summation2)\n",
    "        \n",
    "#         y_pred = np.matmul(testx,Q.T)\n",
    "#         cost = np.sum((testy - y_pred)**2)/(2*len(testy))\n",
    "#         print(cost)\n",
    "        \n",
    "    return Q"
   ]
  },
  {
   "cell_type": "code",
   "execution_count": 38,
   "metadata": {},
   "outputs": [],
   "source": [
    "Q = np.zeros([1,8])\n",
    "LR = 0.001\n",
    "iters = 10000\n",
    "##hyperparameter lamba\n",
    "lamba =  15\n",
    "\n",
    "error_list1 = []\n",
    "k_list1 = [2,3,5,6,9,10,15,25,30,45,50]\n",
    "# k1 = 2"
   ]
  },
  {
   "cell_type": "code",
   "execution_count": 39,
   "metadata": {},
   "outputs": [
    {
     "data": {
      "text/plain": [
       "(450, 8)"
      ]
     },
     "execution_count": 39,
     "metadata": {},
     "output_type": "execute_result"
    }
   ],
   "source": [
    "x.shape"
   ]
  },
  {
   "cell_type": "code",
   "execution_count": 40,
   "metadata": {},
   "outputs": [
    {
     "name": "stdout",
     "output_type": "stream",
     "text": [
      "0.002889442022364794\n",
      "0.0028483099543785253\n",
      "0.0029138941900073018\n",
      "0.002483650344809376\n",
      "0.0028285723219930755\n",
      "0.0027927757000775675\n",
      "0.0027668869986157696\n",
      "0.002248739389345511\n",
      "0.0027074586458303556\n",
      "0.002973667566037238\n",
      "0.0029361336745191173\n",
      "0.0026744839559401006\n",
      "0.0024344353476188707\n",
      "0.0024757646208717677\n",
      "0.0024890638372279707\n",
      "0.002974135103934998\n",
      "0.0033632309917411367\n",
      "0.001658603442947468\n",
      "0.003335417973653491\n",
      "0.0025489821740069564\n",
      "0.0025050079396575424\n",
      "0.0023254398238570103\n",
      "0.0021740454641751734\n",
      "0.0031268355691698255\n",
      "0.002828220945805286\n",
      "0.002843934419617602\n",
      "0.002621154975094999\n",
      "0.0032280618839651315\n",
      "0.0022185769072932526\n",
      "0.002440423666939116\n",
      "0.002077274030563892\n",
      "0.002775650910028114\n",
      "0.002490908844980081\n",
      "0.0029133031922219032\n",
      "0.0029343285194763855\n",
      "0.0027960861880293704\n",
      "0.0036615092343630406\n",
      "0.0016711774661102633\n",
      "0.003111188206714946\n",
      "0.002610614385198383\n",
      "0.0024118116597325536\n",
      "0.0021866100094537484\n",
      "0.0033085498948214618\n",
      "0.0013049261706079784\n",
      "0.003090433924492836\n",
      "0.0019829525430855545\n",
      "0.0027483892261773624\n",
      "0.002963948797158632\n",
      "0.0027951694651065936\n",
      "0.0030427214575180386\n",
      "0.0020131732233997714\n",
      "0.0033872560082790497\n",
      "0.004198186828408283\n",
      "0.00212232506425476\n",
      "0.0017605021282874295\n",
      "0.004022221972830993\n",
      "0.0020780490629171092\n",
      "0.0030182428219618965\n",
      "0.0020684143114824594\n",
      "0.002413038626067934\n",
      "0.0028628966465947744\n",
      "0.0027062815826884917\n",
      "0.0010134735295966061\n",
      "0.0036184745422640466\n",
      "0.001150271865837851\n",
      "0.0037024419011743148\n",
      "0.002328018444030007\n",
      "0.0016277201535816565\n",
      "0.002098756194406716\n",
      "0.003268144428650481\n",
      "0.002828085758560862\n",
      "0.003121301153805675\n",
      "0.002124404135851957\n",
      "0.003485225423351438\n",
      "0.0029777211146168273\n",
      "0.0022636098062743756\n",
      "0.0032948368226350657\n",
      "0.0028695210205541507\n",
      "0.00448059390228037\n",
      "0.0014881057861270118\n",
      "0.0018199246614502593\n",
      "0.00463417966039334\n",
      "0.0015898188430216495\n",
      "0.003404406182366336\n",
      "0.0018203463210602808\n",
      "0.002630205544387937\n",
      "0.0022138951785916597\n",
      "0.003204655691741475\n",
      "0.0011677397784006687\n",
      "0.0029273858183522087\n",
      "0.003704748017931271\n",
      "0.0014388633759455254\n",
      "0.0011693706649666127\n",
      "0.003990548635204327\n",
      "0.0021050233324450417\n",
      "0.0019798731592010708\n",
      "0.001981999616281602\n",
      "0.0018334145729470722\n",
      "0.0037263588777389513\n",
      "0.0028346923478597785\n",
      "0.003075090553841023\n",
      "0.002779030224653986\n",
      "0.002697780299769796\n",
      "0.003070324254151446\n",
      "0.0029913857676698596\n",
      "0.0029943922596923035\n",
      "0.0006917481583675619\n",
      "0.004629300985506163\n",
      "0.003309223455335923\n",
      "0.005049324186522135\n",
      "0.0026343705345809785\n",
      "0.0017625273993073522\n",
      "0.00139917546999081\n",
      "0.0017818219347796025\n",
      "0.0006381494332583327\n",
      "0.006999390889938853\n",
      "0.0016743466632538648\n",
      "0.0025791186753305684\n",
      "0.00366395367155715\n",
      "0.0015743760311649785\n",
      "0.0029074483887387413\n",
      "0.0020841753302614134\n",
      "0.002250141573814376\n",
      "0.0046016092698147\n",
      "0.0009163735000234836\n",
      "0.0010663278559393822\n",
      "0.0041785112586122195\n",
      "0.00043885568146595787\n",
      "0.005321039228020607\n",
      "0.0016096428647388312\n",
      "0.0013741886949364716\n",
      "0.0009638255329924453\n",
      "0.005154734362389009\n",
      "0.002466530189514764\n",
      "0.001511907786682891\n",
      "0.0023211128957572034\n",
      "0.0012234505233047574\n",
      "0.002380928715382014\n",
      "0.0024492545353151343\n",
      "0.002506590598339947\n",
      "0.0033089953745193733\n",
      "0.003410040571003493\n",
      "0.0020941972655146982\n",
      "0.003382644940296857\n",
      "0.0032673078507636554\n",
      "0.0011119850674832256\n",
      "0.0038209888852136615\n",
      "0.0037508659056336205\n",
      "0.0028113326296408795\n",
      "0.002581748923190087\n",
      "0.003140713943532435\n",
      "0.0008589098990457744\n",
      "0.004493213016604218\n",
      "0.0022836488606880457\n",
      "0.003230074039777517\n",
      "0.005234127458662372\n",
      "0.0025713552029646754\n",
      "0.001655135180612481\n",
      "0.0015604038494906791\n",
      "0.0019296709365308677\n",
      "0.000555603596683208\n",
      "0.007484087325721051\n",
      "0.0018609370334992043\n",
      "0.002243705233100476\n",
      "0.0038884342134508833\n",
      "0.002155730524567341\n",
      "0.0025707077793421093\n",
      "0.0015706835250193642\n",
      "0.0026296247782777948\n",
      "0.0021852255666141205\n",
      "0.0040217853982376294\n",
      "0.0017210088834759957\n",
      "0.00138745401028577\n",
      "0.0039842202244958725\n",
      "0.0011003294320847611\n",
      "0.0009338501007768855\n",
      "0.00542659341432672\n",
      "0.001844325576061101\n",
      "0.001379386995470189\n",
      "0.0009250143589689605\n",
      "0.0032137986589863593\n",
      "0.004186099424726008\n",
      "0.0022891577228183104\n",
      "0.0023082092100886447\n",
      "0.001458121205351044\n",
      "0.0018255182524020612\n",
      "0.0016823939635998977\n",
      "0.0025378862253020713\n",
      "0.002945657073571\n",
      "0.0034960014942463707\n",
      "0.00305109580976879\n",
      "0.002616342490287865\n",
      "0.0016909446544781975\n",
      "0.004589274860655416\n",
      "0.0025751684401956435\n",
      "0.0016398425735655734\n",
      "0.005287129966424848\n",
      "0.0016817721760584914\n",
      "0.0036704800709451485\n",
      "0.002287849099607905\n"
     ]
    }
   ],
   "source": [
    "for k1 in k_list1:\n",
    "    summ = 0\n",
    "    cv = KFold(n_splits=k1,shuffle=False)\n",
    "    for train_index, test_index in cv.split(x):\n",
    "        trainx,testx,trainy,testy = x[train_index], x[test_index], y[train_index], y[test_index]\n",
    "\n",
    "        # for lamba in range(1,10000,100):\n",
    "        Q_res = gradientDescent(trainx,trainy,Q,iters,LR,lamba)\n",
    "        #print(Q_res)\n",
    "        y_pred = np.matmul(testx,Q_res.T)\n",
    "        # print(y_pred)\n",
    "\n",
    "        ##Calculating error for Ridge regression\n",
    "        error = np.sum((testy - y_pred)**2)/(2*len(testy))\n",
    "        print(error)\n",
    "        summ+=error\n",
    "    error_list1.append(summ/k1)\n",
    "\n",
    "\n",
    "# print(k_list1)\n",
    "# print(error_list)\n"
   ]
  },
  {
   "cell_type": "code",
   "execution_count": null,
   "metadata": {},
   "outputs": [],
   "source": [
    "\n"
   ]
  },
  {
   "cell_type": "code",
   "execution_count": null,
   "metadata": {},
   "outputs": [],
   "source": []
  },
  {
   "cell_type": "code",
   "execution_count": 41,
   "metadata": {},
   "outputs": [
    {
     "data": {
      "image/png": "[encoded data removed]",
      "text/plain": [
       "<Figure size 432x288 with 1 Axes>"
      ]
     },
     "metadata": {
      "needs_background": "light"
     },
     "output_type": "display_data"
    }
   ],
   "source": [
    "#plotting graphs    \n",
    "plt.plot(k_list1,error_list1,label=\"Mean square error\")\n",
    "plt.title('K vs Error -KFOLD')\n",
    "plt.xlabel('k')\n",
    "plt.ylabel('error')\n",
    "plt.grid(True)\n",
    "plt.legend()\n",
    "plt.show()"
   ]
  },
  {
   "cell_type": "markdown",
   "metadata": {},
   "source": [
    "## For LOO\n"
   ]
  },
  {
   "cell_type": "code",
   "execution_count": null,
   "metadata": {},
   "outputs": [],
   "source": []
  },
  {
   "cell_type": "code",
   "execution_count": 53,
   "metadata": {},
   "outputs": [
    {
     "name": "stdout",
     "output_type": "stream",
     "text": [
      "0.0026356427634642208\n"
     ]
    }
   ],
   "source": [
    "# for k1 in k_list2:\n",
    "summ = 0\n",
    "cv = KFold(n_splits=450,shuffle=False)\n",
    "for train_index, test_index in cv.split(x):\n",
    "    trainx,testx,trainy,testy = x[train_index], x[test_index], y[train_index], y[test_index]\n",
    "\n",
    "    # for lamba in range(1,10000,100):\n",
    "    Q_res = gradientDescent(trainx,trainy,Q,iters,LR,lamba)\n",
    "    #print(Q_res)\n",
    "    y_pred = np.matmul(testx,Q_res.T)\n",
    "    # print(y_pred)\n",
    "\n",
    "    ##Calculating error for Ridge regression\n",
    "    error = np.sum((testy - y_pred)**2)/(2*len(testy))\n",
    "#     print(error)\n",
    "    summ+=error\n",
    "print(summ/450)\n",
    "\n",
    "\n",
    "# print(k_list1)\n",
    "# print(error_list)\n",
    "\n"
   ]
  },
  {
   "cell_type": "code",
   "execution_count": null,
   "metadata": {},
   "outputs": [],
   "source": []
  }
 ],
 "metadata": {
  "kernelspec": {
   "display_name": "Python 3",
   "language": "python",
   "name": "python3"
  },
  "language_info": {
   "codemirror_mode": {
    "name": "ipython",
    "version": 3
   },
   "file_extension": ".py",
   "mimetype": "text/x-python",
   "name": "python",
   "nbconvert_exporter": "python",
   "pygments_lexer": "ipython3",
   "version": "3.6.7"
  }
 },
 "nbformat": 4,
 "nbformat_minor": 2
}
